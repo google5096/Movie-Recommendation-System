{
 "cells": [
  {
   "cell_type": "code",
   "execution_count": 1,
   "id": "b15d8ea3-d97c-43cc-849c-eb894f8b276e",
   "metadata": {},
   "outputs": [],
   "source": [
    "import numpy as np\n",
    "import pandas as pd\n",
    "import difflib\n",
    "from sklearn.feature_extraction.text import TfidfVectorizer\n",
    "from sklearn.metrics.pairwise import cosine_similarity"
   ]
  },
  {
   "cell_type": "code",
   "execution_count": 2,
   "id": "7c5656bc-bb74-4f12-9c61-3b3f12548d8f",
   "metadata": {},
   "outputs": [],
   "source": [
    "movies_data = pd.read_csv('movies.csv')"
   ]
  },
  {
   "cell_type": "code",
   "execution_count": 3,
   "id": "29828d18-0b80-452f-bc0b-690b54522dfd",
   "metadata": {},
   "outputs": [
    {
     "data": {
      "text/html": [
       "<div>\n",
       "<style scoped>\n",
       "    .dataframe tbody tr th:only-of-type {\n",
       "        vertical-align: middle;\n",
       "    }\n",
       "\n",
       "    .dataframe tbody tr th {\n",
       "        vertical-align: top;\n",
       "    }\n",
       "\n",
       "    .dataframe thead th {\n",
       "        text-align: right;\n",
       "    }\n",
       "</style>\n",
       "<table border=\"1\" class=\"dataframe\">\n",
       "  <thead>\n",
       "    <tr style=\"text-align: right;\">\n",
       "      <th></th>\n",
       "      <th>index</th>\n",
       "      <th>budget</th>\n",
       "      <th>genres</th>\n",
       "      <th>homepage</th>\n",
       "      <th>id</th>\n",
       "      <th>keywords</th>\n",
       "      <th>original_language</th>\n",
       "      <th>original_title</th>\n",
       "      <th>overview</th>\n",
       "      <th>popularity</th>\n",
       "      <th>...</th>\n",
       "      <th>runtime</th>\n",
       "      <th>spoken_languages</th>\n",
       "      <th>status</th>\n",
       "      <th>tagline</th>\n",
       "      <th>title</th>\n",
       "      <th>vote_average</th>\n",
       "      <th>vote_count</th>\n",
       "      <th>cast</th>\n",
       "      <th>crew</th>\n",
       "      <th>director</th>\n",
       "    </tr>\n",
       "  </thead>\n",
       "  <tbody>\n",
       "    <tr>\n",
       "      <th>0</th>\n",
       "      <td>0</td>\n",
       "      <td>237000000</td>\n",
       "      <td>Action Adventure Fantasy Science Fiction</td>\n",
       "      <td>http://www.avatarmovie.com/</td>\n",
       "      <td>19995</td>\n",
       "      <td>culture clash future space war space colony so...</td>\n",
       "      <td>en</td>\n",
       "      <td>Avatar</td>\n",
       "      <td>In the 22nd century, a paraplegic Marine is di...</td>\n",
       "      <td>150.437577</td>\n",
       "      <td>...</td>\n",
       "      <td>162.0</td>\n",
       "      <td>[{\"iso_639_1\": \"en\", \"name\": \"English\"}, {\"iso...</td>\n",
       "      <td>Released</td>\n",
       "      <td>Enter the World of Pandora.</td>\n",
       "      <td>Avatar</td>\n",
       "      <td>7.2</td>\n",
       "      <td>11800</td>\n",
       "      <td>Sam Worthington Zoe Saldana Sigourney Weaver S...</td>\n",
       "      <td>[{'name': 'Stephen E. Rivkin', 'gender': 0, 'd...</td>\n",
       "      <td>James Cameron</td>\n",
       "    </tr>\n",
       "    <tr>\n",
       "      <th>1</th>\n",
       "      <td>1</td>\n",
       "      <td>300000000</td>\n",
       "      <td>Adventure Fantasy Action</td>\n",
       "      <td>http://disney.go.com/disneypictures/pirates/</td>\n",
       "      <td>285</td>\n",
       "      <td>ocean drug abuse exotic island east india trad...</td>\n",
       "      <td>en</td>\n",
       "      <td>Pirates of the Caribbean: At World's End</td>\n",
       "      <td>Captain Barbossa, long believed to be dead, ha...</td>\n",
       "      <td>139.082615</td>\n",
       "      <td>...</td>\n",
       "      <td>169.0</td>\n",
       "      <td>[{\"iso_639_1\": \"en\", \"name\": \"English\"}]</td>\n",
       "      <td>Released</td>\n",
       "      <td>At the end of the world, the adventure begins.</td>\n",
       "      <td>Pirates of the Caribbean: At World's End</td>\n",
       "      <td>6.9</td>\n",
       "      <td>4500</td>\n",
       "      <td>Johnny Depp Orlando Bloom Keira Knightley Stel...</td>\n",
       "      <td>[{'name': 'Dariusz Wolski', 'gender': 2, 'depa...</td>\n",
       "      <td>Gore Verbinski</td>\n",
       "    </tr>\n",
       "    <tr>\n",
       "      <th>2</th>\n",
       "      <td>2</td>\n",
       "      <td>245000000</td>\n",
       "      <td>Action Adventure Crime</td>\n",
       "      <td>http://www.sonypictures.com/movies/spectre/</td>\n",
       "      <td>206647</td>\n",
       "      <td>spy based on novel secret agent sequel mi6</td>\n",
       "      <td>en</td>\n",
       "      <td>Spectre</td>\n",
       "      <td>A cryptic message from Bond’s past sends him o...</td>\n",
       "      <td>107.376788</td>\n",
       "      <td>...</td>\n",
       "      <td>148.0</td>\n",
       "      <td>[{\"iso_639_1\": \"fr\", \"name\": \"Fran\\u00e7ais\"},...</td>\n",
       "      <td>Released</td>\n",
       "      <td>A Plan No One Escapes</td>\n",
       "      <td>Spectre</td>\n",
       "      <td>6.3</td>\n",
       "      <td>4466</td>\n",
       "      <td>Daniel Craig Christoph Waltz L\\u00e9a Seydoux ...</td>\n",
       "      <td>[{'name': 'Thomas Newman', 'gender': 2, 'depar...</td>\n",
       "      <td>Sam Mendes</td>\n",
       "    </tr>\n",
       "    <tr>\n",
       "      <th>3</th>\n",
       "      <td>3</td>\n",
       "      <td>250000000</td>\n",
       "      <td>Action Crime Drama Thriller</td>\n",
       "      <td>http://www.thedarkknightrises.com/</td>\n",
       "      <td>49026</td>\n",
       "      <td>dc comics crime fighter terrorist secret ident...</td>\n",
       "      <td>en</td>\n",
       "      <td>The Dark Knight Rises</td>\n",
       "      <td>Following the death of District Attorney Harve...</td>\n",
       "      <td>112.312950</td>\n",
       "      <td>...</td>\n",
       "      <td>165.0</td>\n",
       "      <td>[{\"iso_639_1\": \"en\", \"name\": \"English\"}]</td>\n",
       "      <td>Released</td>\n",
       "      <td>The Legend Ends</td>\n",
       "      <td>The Dark Knight Rises</td>\n",
       "      <td>7.6</td>\n",
       "      <td>9106</td>\n",
       "      <td>Christian Bale Michael Caine Gary Oldman Anne ...</td>\n",
       "      <td>[{'name': 'Hans Zimmer', 'gender': 2, 'departm...</td>\n",
       "      <td>Christopher Nolan</td>\n",
       "    </tr>\n",
       "    <tr>\n",
       "      <th>4</th>\n",
       "      <td>4</td>\n",
       "      <td>260000000</td>\n",
       "      <td>Action Adventure Science Fiction</td>\n",
       "      <td>http://movies.disney.com/john-carter</td>\n",
       "      <td>49529</td>\n",
       "      <td>based on novel mars medallion space travel pri...</td>\n",
       "      <td>en</td>\n",
       "      <td>John Carter</td>\n",
       "      <td>John Carter is a war-weary, former military ca...</td>\n",
       "      <td>43.926995</td>\n",
       "      <td>...</td>\n",
       "      <td>132.0</td>\n",
       "      <td>[{\"iso_639_1\": \"en\", \"name\": \"English\"}]</td>\n",
       "      <td>Released</td>\n",
       "      <td>Lost in our world, found in another.</td>\n",
       "      <td>John Carter</td>\n",
       "      <td>6.1</td>\n",
       "      <td>2124</td>\n",
       "      <td>Taylor Kitsch Lynn Collins Samantha Morton Wil...</td>\n",
       "      <td>[{'name': 'Andrew Stanton', 'gender': 2, 'depa...</td>\n",
       "      <td>Andrew Stanton</td>\n",
       "    </tr>\n",
       "    <tr>\n",
       "      <th>...</th>\n",
       "      <td>...</td>\n",
       "      <td>...</td>\n",
       "      <td>...</td>\n",
       "      <td>...</td>\n",
       "      <td>...</td>\n",
       "      <td>...</td>\n",
       "      <td>...</td>\n",
       "      <td>...</td>\n",
       "      <td>...</td>\n",
       "      <td>...</td>\n",
       "      <td>...</td>\n",
       "      <td>...</td>\n",
       "      <td>...</td>\n",
       "      <td>...</td>\n",
       "      <td>...</td>\n",
       "      <td>...</td>\n",
       "      <td>...</td>\n",
       "      <td>...</td>\n",
       "      <td>...</td>\n",
       "      <td>...</td>\n",
       "      <td>...</td>\n",
       "    </tr>\n",
       "    <tr>\n",
       "      <th>4798</th>\n",
       "      <td>4798</td>\n",
       "      <td>220000</td>\n",
       "      <td>Action Crime Thriller</td>\n",
       "      <td>NaN</td>\n",
       "      <td>9367</td>\n",
       "      <td>united states\\u2013mexico barrier legs arms pa...</td>\n",
       "      <td>es</td>\n",
       "      <td>El Mariachi</td>\n",
       "      <td>El Mariachi just wants to play his guitar and ...</td>\n",
       "      <td>14.269792</td>\n",
       "      <td>...</td>\n",
       "      <td>81.0</td>\n",
       "      <td>[{\"iso_639_1\": \"es\", \"name\": \"Espa\\u00f1ol\"}]</td>\n",
       "      <td>Released</td>\n",
       "      <td>He didn't come looking for trouble, but troubl...</td>\n",
       "      <td>El Mariachi</td>\n",
       "      <td>6.6</td>\n",
       "      <td>238</td>\n",
       "      <td>Carlos Gallardo Jaime de Hoyos Peter Marquardt...</td>\n",
       "      <td>[{'name': 'Robert Rodriguez', 'gender': 0, 'de...</td>\n",
       "      <td>Robert Rodriguez</td>\n",
       "    </tr>\n",
       "    <tr>\n",
       "      <th>4799</th>\n",
       "      <td>4799</td>\n",
       "      <td>9000</td>\n",
       "      <td>Comedy Romance</td>\n",
       "      <td>NaN</td>\n",
       "      <td>72766</td>\n",
       "      <td>NaN</td>\n",
       "      <td>en</td>\n",
       "      <td>Newlyweds</td>\n",
       "      <td>A newlywed couple's honeymoon is upended by th...</td>\n",
       "      <td>0.642552</td>\n",
       "      <td>...</td>\n",
       "      <td>85.0</td>\n",
       "      <td>[]</td>\n",
       "      <td>Released</td>\n",
       "      <td>A newlywed couple's honeymoon is upended by th...</td>\n",
       "      <td>Newlyweds</td>\n",
       "      <td>5.9</td>\n",
       "      <td>5</td>\n",
       "      <td>Edward Burns Kerry Bish\\u00e9 Marsha Dietlein ...</td>\n",
       "      <td>[{'name': 'Edward Burns', 'gender': 2, 'depart...</td>\n",
       "      <td>Edward Burns</td>\n",
       "    </tr>\n",
       "    <tr>\n",
       "      <th>4800</th>\n",
       "      <td>4800</td>\n",
       "      <td>0</td>\n",
       "      <td>Comedy Drama Romance TV Movie</td>\n",
       "      <td>http://www.hallmarkchannel.com/signedsealeddel...</td>\n",
       "      <td>231617</td>\n",
       "      <td>date love at first sight narration investigati...</td>\n",
       "      <td>en</td>\n",
       "      <td>Signed, Sealed, Delivered</td>\n",
       "      <td>\"Signed, Sealed, Delivered\" introduces a dedic...</td>\n",
       "      <td>1.444476</td>\n",
       "      <td>...</td>\n",
       "      <td>120.0</td>\n",
       "      <td>[{\"iso_639_1\": \"en\", \"name\": \"English\"}]</td>\n",
       "      <td>Released</td>\n",
       "      <td>NaN</td>\n",
       "      <td>Signed, Sealed, Delivered</td>\n",
       "      <td>7.0</td>\n",
       "      <td>6</td>\n",
       "      <td>Eric Mabius Kristin Booth Crystal Lowe Geoff G...</td>\n",
       "      <td>[{'name': 'Carla Hetland', 'gender': 0, 'depar...</td>\n",
       "      <td>Scott Smith</td>\n",
       "    </tr>\n",
       "    <tr>\n",
       "      <th>4801</th>\n",
       "      <td>4801</td>\n",
       "      <td>0</td>\n",
       "      <td>NaN</td>\n",
       "      <td>http://shanghaicalling.com/</td>\n",
       "      <td>126186</td>\n",
       "      <td>NaN</td>\n",
       "      <td>en</td>\n",
       "      <td>Shanghai Calling</td>\n",
       "      <td>When ambitious New York attorney Sam is sent t...</td>\n",
       "      <td>0.857008</td>\n",
       "      <td>...</td>\n",
       "      <td>98.0</td>\n",
       "      <td>[{\"iso_639_1\": \"en\", \"name\": \"English\"}]</td>\n",
       "      <td>Released</td>\n",
       "      <td>A New Yorker in Shanghai</td>\n",
       "      <td>Shanghai Calling</td>\n",
       "      <td>5.7</td>\n",
       "      <td>7</td>\n",
       "      <td>Daniel Henney Eliza Coupe Bill Paxton Alan Ruc...</td>\n",
       "      <td>[{'name': 'Daniel Hsia', 'gender': 2, 'departm...</td>\n",
       "      <td>Daniel Hsia</td>\n",
       "    </tr>\n",
       "    <tr>\n",
       "      <th>4802</th>\n",
       "      <td>4802</td>\n",
       "      <td>0</td>\n",
       "      <td>Documentary</td>\n",
       "      <td>NaN</td>\n",
       "      <td>25975</td>\n",
       "      <td>obsession camcorder crush dream girl</td>\n",
       "      <td>en</td>\n",
       "      <td>My Date with Drew</td>\n",
       "      <td>Ever since the second grade when he first saw ...</td>\n",
       "      <td>1.929883</td>\n",
       "      <td>...</td>\n",
       "      <td>90.0</td>\n",
       "      <td>[{\"iso_639_1\": \"en\", \"name\": \"English\"}]</td>\n",
       "      <td>Released</td>\n",
       "      <td>NaN</td>\n",
       "      <td>My Date with Drew</td>\n",
       "      <td>6.3</td>\n",
       "      <td>16</td>\n",
       "      <td>Drew Barrymore Brian Herzlinger Corey Feldman ...</td>\n",
       "      <td>[{'name': 'Clark Peterson', 'gender': 2, 'depa...</td>\n",
       "      <td>Brian Herzlinger</td>\n",
       "    </tr>\n",
       "  </tbody>\n",
       "</table>\n",
       "<p>4803 rows × 24 columns</p>\n",
       "</div>"
      ],
      "text/plain": [
       "      index     budget                                    genres  \\\n",
       "0         0  237000000  Action Adventure Fantasy Science Fiction   \n",
       "1         1  300000000                  Adventure Fantasy Action   \n",
       "2         2  245000000                    Action Adventure Crime   \n",
       "3         3  250000000               Action Crime Drama Thriller   \n",
       "4         4  260000000          Action Adventure Science Fiction   \n",
       "...     ...        ...                                       ...   \n",
       "4798   4798     220000                     Action Crime Thriller   \n",
       "4799   4799       9000                            Comedy Romance   \n",
       "4800   4800          0             Comedy Drama Romance TV Movie   \n",
       "4801   4801          0                                       NaN   \n",
       "4802   4802          0                               Documentary   \n",
       "\n",
       "                                               homepage      id  \\\n",
       "0                           http://www.avatarmovie.com/   19995   \n",
       "1          http://disney.go.com/disneypictures/pirates/     285   \n",
       "2           http://www.sonypictures.com/movies/spectre/  206647   \n",
       "3                    http://www.thedarkknightrises.com/   49026   \n",
       "4                  http://movies.disney.com/john-carter   49529   \n",
       "...                                                 ...     ...   \n",
       "4798                                                NaN    9367   \n",
       "4799                                                NaN   72766   \n",
       "4800  http://www.hallmarkchannel.com/signedsealeddel...  231617   \n",
       "4801                        http://shanghaicalling.com/  126186   \n",
       "4802                                                NaN   25975   \n",
       "\n",
       "                                               keywords original_language  \\\n",
       "0     culture clash future space war space colony so...                en   \n",
       "1     ocean drug abuse exotic island east india trad...                en   \n",
       "2            spy based on novel secret agent sequel mi6                en   \n",
       "3     dc comics crime fighter terrorist secret ident...                en   \n",
       "4     based on novel mars medallion space travel pri...                en   \n",
       "...                                                 ...               ...   \n",
       "4798  united states\\u2013mexico barrier legs arms pa...                es   \n",
       "4799                                                NaN                en   \n",
       "4800  date love at first sight narration investigati...                en   \n",
       "4801                                                NaN                en   \n",
       "4802               obsession camcorder crush dream girl                en   \n",
       "\n",
       "                                original_title  \\\n",
       "0                                       Avatar   \n",
       "1     Pirates of the Caribbean: At World's End   \n",
       "2                                      Spectre   \n",
       "3                        The Dark Knight Rises   \n",
       "4                                  John Carter   \n",
       "...                                        ...   \n",
       "4798                               El Mariachi   \n",
       "4799                                 Newlyweds   \n",
       "4800                 Signed, Sealed, Delivered   \n",
       "4801                          Shanghai Calling   \n",
       "4802                         My Date with Drew   \n",
       "\n",
       "                                               overview  popularity  ...  \\\n",
       "0     In the 22nd century, a paraplegic Marine is di...  150.437577  ...   \n",
       "1     Captain Barbossa, long believed to be dead, ha...  139.082615  ...   \n",
       "2     A cryptic message from Bond’s past sends him o...  107.376788  ...   \n",
       "3     Following the death of District Attorney Harve...  112.312950  ...   \n",
       "4     John Carter is a war-weary, former military ca...   43.926995  ...   \n",
       "...                                                 ...         ...  ...   \n",
       "4798  El Mariachi just wants to play his guitar and ...   14.269792  ...   \n",
       "4799  A newlywed couple's honeymoon is upended by th...    0.642552  ...   \n",
       "4800  \"Signed, Sealed, Delivered\" introduces a dedic...    1.444476  ...   \n",
       "4801  When ambitious New York attorney Sam is sent t...    0.857008  ...   \n",
       "4802  Ever since the second grade when he first saw ...    1.929883  ...   \n",
       "\n",
       "     runtime                                   spoken_languages    status  \\\n",
       "0      162.0  [{\"iso_639_1\": \"en\", \"name\": \"English\"}, {\"iso...  Released   \n",
       "1      169.0           [{\"iso_639_1\": \"en\", \"name\": \"English\"}]  Released   \n",
       "2      148.0  [{\"iso_639_1\": \"fr\", \"name\": \"Fran\\u00e7ais\"},...  Released   \n",
       "3      165.0           [{\"iso_639_1\": \"en\", \"name\": \"English\"}]  Released   \n",
       "4      132.0           [{\"iso_639_1\": \"en\", \"name\": \"English\"}]  Released   \n",
       "...      ...                                                ...       ...   \n",
       "4798    81.0      [{\"iso_639_1\": \"es\", \"name\": \"Espa\\u00f1ol\"}]  Released   \n",
       "4799    85.0                                                 []  Released   \n",
       "4800   120.0           [{\"iso_639_1\": \"en\", \"name\": \"English\"}]  Released   \n",
       "4801    98.0           [{\"iso_639_1\": \"en\", \"name\": \"English\"}]  Released   \n",
       "4802    90.0           [{\"iso_639_1\": \"en\", \"name\": \"English\"}]  Released   \n",
       "\n",
       "                                                tagline  \\\n",
       "0                           Enter the World of Pandora.   \n",
       "1        At the end of the world, the adventure begins.   \n",
       "2                                 A Plan No One Escapes   \n",
       "3                                       The Legend Ends   \n",
       "4                  Lost in our world, found in another.   \n",
       "...                                                 ...   \n",
       "4798  He didn't come looking for trouble, but troubl...   \n",
       "4799  A newlywed couple's honeymoon is upended by th...   \n",
       "4800                                                NaN   \n",
       "4801                           A New Yorker in Shanghai   \n",
       "4802                                                NaN   \n",
       "\n",
       "                                         title vote_average vote_count  \\\n",
       "0                                       Avatar          7.2      11800   \n",
       "1     Pirates of the Caribbean: At World's End          6.9       4500   \n",
       "2                                      Spectre          6.3       4466   \n",
       "3                        The Dark Knight Rises          7.6       9106   \n",
       "4                                  John Carter          6.1       2124   \n",
       "...                                        ...          ...        ...   \n",
       "4798                               El Mariachi          6.6        238   \n",
       "4799                                 Newlyweds          5.9          5   \n",
       "4800                 Signed, Sealed, Delivered          7.0          6   \n",
       "4801                          Shanghai Calling          5.7          7   \n",
       "4802                         My Date with Drew          6.3         16   \n",
       "\n",
       "                                                   cast  \\\n",
       "0     Sam Worthington Zoe Saldana Sigourney Weaver S...   \n",
       "1     Johnny Depp Orlando Bloom Keira Knightley Stel...   \n",
       "2     Daniel Craig Christoph Waltz L\\u00e9a Seydoux ...   \n",
       "3     Christian Bale Michael Caine Gary Oldman Anne ...   \n",
       "4     Taylor Kitsch Lynn Collins Samantha Morton Wil...   \n",
       "...                                                 ...   \n",
       "4798  Carlos Gallardo Jaime de Hoyos Peter Marquardt...   \n",
       "4799  Edward Burns Kerry Bish\\u00e9 Marsha Dietlein ...   \n",
       "4800  Eric Mabius Kristin Booth Crystal Lowe Geoff G...   \n",
       "4801  Daniel Henney Eliza Coupe Bill Paxton Alan Ruc...   \n",
       "4802  Drew Barrymore Brian Herzlinger Corey Feldman ...   \n",
       "\n",
       "                                                   crew           director  \n",
       "0     [{'name': 'Stephen E. Rivkin', 'gender': 0, 'd...      James Cameron  \n",
       "1     [{'name': 'Dariusz Wolski', 'gender': 2, 'depa...     Gore Verbinski  \n",
       "2     [{'name': 'Thomas Newman', 'gender': 2, 'depar...         Sam Mendes  \n",
       "3     [{'name': 'Hans Zimmer', 'gender': 2, 'departm...  Christopher Nolan  \n",
       "4     [{'name': 'Andrew Stanton', 'gender': 2, 'depa...     Andrew Stanton  \n",
       "...                                                 ...                ...  \n",
       "4798  [{'name': 'Robert Rodriguez', 'gender': 0, 'de...   Robert Rodriguez  \n",
       "4799  [{'name': 'Edward Burns', 'gender': 2, 'depart...       Edward Burns  \n",
       "4800  [{'name': 'Carla Hetland', 'gender': 0, 'depar...        Scott Smith  \n",
       "4801  [{'name': 'Daniel Hsia', 'gender': 2, 'departm...        Daniel Hsia  \n",
       "4802  [{'name': 'Clark Peterson', 'gender': 2, 'depa...   Brian Herzlinger  \n",
       "\n",
       "[4803 rows x 24 columns]"
      ]
     },
     "execution_count": 3,
     "metadata": {},
     "output_type": "execute_result"
    }
   ],
   "source": [
    "movies_data"
   ]
  },
  {
   "cell_type": "code",
   "execution_count": 4,
   "id": "e00aabeb-bb5a-4843-94a1-5bcfd6433c71",
   "metadata": {},
   "outputs": [
    {
     "data": {
      "text/plain": [
       "(4803, 24)"
      ]
     },
     "execution_count": 4,
     "metadata": {},
     "output_type": "execute_result"
    }
   ],
   "source": [
    "# number of rows and columns in the data frame\n",
    "\n",
    "movies_data.shape"
   ]
  },
  {
   "cell_type": "code",
   "execution_count": 5,
   "id": "89e7ee0a-52d0-458a-9e95-a6269c273458",
   "metadata": {},
   "outputs": [
    {
     "name": "stdout",
     "output_type": "stream",
     "text": [
      "['genres', 'keywords', 'tagline', 'cast', 'director']\n"
     ]
    }
   ],
   "source": [
    "# selecting the relevant features for recommendation\n",
    "\n",
    "selected_features = ['genres','keywords','tagline','cast','director']\n",
    "print(selected_features)"
   ]
  },
  {
   "cell_type": "code",
   "execution_count": 6,
   "id": "5f119148-3215-4e40-a914-8a92b08e77e1",
   "metadata": {},
   "outputs": [],
   "source": [
    "# replacing the null valuess with null string\n",
    "\n",
    "for feature in selected_features:\n",
    "  movies_data[feature] = movies_data[feature].fillna('')"
   ]
  },
  {
   "cell_type": "code",
   "execution_count": 7,
   "id": "41aca8e3-9b7c-4443-95a9-011362e5cc45",
   "metadata": {},
   "outputs": [],
   "source": [
    "# combining all the 5 selected features\n",
    "\n",
    "combined_features = movies_data['genres']+' '+movies_data['keywords']+' '+movies_data['tagline']+' '+movies_data['cast']+' '+movies_data['director']"
   ]
  },
  {
   "cell_type": "code",
   "execution_count": 8,
   "id": "eba5a802-0948-4657-b581-5925bb54054d",
   "metadata": {},
   "outputs": [],
   "source": [
    "# print(combined_features)"
   ]
  },
  {
   "cell_type": "code",
   "execution_count": 9,
   "id": "8ffae9e6-18a2-4dc7-97c2-f087f5c3e11e",
   "metadata": {},
   "outputs": [],
   "source": [
    "# converting the text data to feature vectors\n",
    "\n",
    "vectorizer = TfidfVectorizer()"
   ]
  },
  {
   "cell_type": "code",
   "execution_count": 10,
   "id": "60428757-4440-4d64-8c66-d99022a00853",
   "metadata": {},
   "outputs": [],
   "source": [
    "feature_vectors = vectorizer.fit_transform(combined_features)"
   ]
  },
  {
   "cell_type": "code",
   "execution_count": 11,
   "id": "ca56a5f5-e220-4ba2-836b-de2e108faf54",
   "metadata": {},
   "outputs": [],
   "source": [
    "# print(feature_vectors)"
   ]
  },
  {
   "cell_type": "code",
   "execution_count": 12,
   "id": "f1ca4117-78db-4acc-8132-b0a9f38b568f",
   "metadata": {},
   "outputs": [],
   "source": [
    "# getting the similarity scores using cosine similarity\n",
    "\n",
    "similarity = cosine_similarity(feature_vectors)"
   ]
  },
  {
   "cell_type": "code",
   "execution_count": 13,
   "id": "5dbe5863-c935-4dbb-ac56-37883bab89ea",
   "metadata": {},
   "outputs": [
    {
     "name": "stdout",
     "output_type": "stream",
     "text": [
      "[[1.         0.07219487 0.037733   ... 0.         0.         0.        ]\n",
      " [0.07219487 1.         0.03281499 ... 0.03575545 0.         0.        ]\n",
      " [0.037733   0.03281499 1.         ... 0.         0.05389661 0.        ]\n",
      " ...\n",
      " [0.         0.03575545 0.         ... 1.         0.         0.02651502]\n",
      " [0.         0.         0.05389661 ... 0.         1.         0.        ]\n",
      " [0.         0.         0.         ... 0.02651502 0.         1.        ]]\n"
     ]
    }
   ],
   "source": [
    "print(similarity)"
   ]
  },
  {
   "cell_type": "code",
   "execution_count": 14,
   "id": "c6e8c113-8022-4375-9b31-9dc89ed0b2d5",
   "metadata": {},
   "outputs": [
    {
     "data": {
      "text/plain": [
       "(4803, 4803)"
      ]
     },
     "execution_count": 14,
     "metadata": {},
     "output_type": "execute_result"
    }
   ],
   "source": [
    "similarity.shape"
   ]
  },
  {
   "cell_type": "code",
   "execution_count": 15,
   "id": "6d40eefc-fee4-442c-820f-88eaf364583f",
   "metadata": {},
   "outputs": [
    {
     "name": "stdin",
     "output_type": "stream",
     "text": [
      " Enter your favourite movie name :  Comedy Romance\n"
     ]
    }
   ],
   "source": [
    "# getting the movie name from the user\n",
    "\n",
    "movie_name = input(' Enter your favourite movie name : ')"
   ]
  },
  {
   "cell_type": "code",
   "execution_count": 16,
   "id": "bdbdcd6d-cf4a-425f-8dfb-963ea0b7de7d",
   "metadata": {},
   "outputs": [],
   "source": [
    "# creating a list with all the movie names given in the dataset\n",
    "\n",
    "list_of_all_titles = movies_data['title'].tolist()\n",
    "# print(list_of_all_titles )"
   ]
  },
  {
   "cell_type": "code",
   "execution_count": 17,
   "id": "bf0db28c-be43-4da8-a3ec-02b6d0dd977c",
   "metadata": {},
   "outputs": [
    {
     "name": "stdout",
     "output_type": "stream",
     "text": [
      "['True Romance', 'Corky Romano', 'Close Range']\n"
     ]
    }
   ],
   "source": [
    "# finding the close match for the movie name given by the user\n",
    "\n",
    "find_close_match = difflib.get_close_matches(movie_name, list_of_all_titles)\n",
    "print(find_close_match)"
   ]
  },
  {
   "cell_type": "code",
   "execution_count": 18,
   "id": "f4580c31-aa1f-46b3-9161-045d81fa7745",
   "metadata": {},
   "outputs": [
    {
     "name": "stdout",
     "output_type": "stream",
     "text": [
      "True Romance\n"
     ]
    }
   ],
   "source": [
    "close_match = find_close_match[0]\n",
    "print(close_match)"
   ]
  },
  {
   "cell_type": "code",
   "execution_count": 19,
   "id": "4d63d272-65fa-4f54-8b6a-fef2e3197d93",
   "metadata": {},
   "outputs": [
    {
     "name": "stdout",
     "output_type": "stream",
     "text": [
      "2790\n"
     ]
    }
   ],
   "source": [
    "# finding the index of the movie with title\n",
    "\n",
    "index_of_the_movie = movies_data[movies_data.title == close_match]['index'].values[0]\n",
    "print(index_of_the_movie)"
   ]
  },
  {
   "cell_type": "code",
   "execution_count": 20,
   "id": "ab2b10a6-09e4-4672-8222-bb5acbd011af",
   "metadata": {},
   "outputs": [],
   "source": [
    "# getting a list of similar movies\n",
    "\n",
    "similarity_score = list(enumerate(similarity[index_of_the_movie]))\n",
    "# print(similarity_score)"
   ]
  },
  {
   "cell_type": "code",
   "execution_count": 21,
   "id": "fbb6a44c-9e28-42cb-92dd-a979b66a7442",
   "metadata": {},
   "outputs": [
    {
     "data": {
      "text/plain": [
       "4803"
      ]
     },
     "execution_count": 21,
     "metadata": {},
     "output_type": "execute_result"
    }
   ],
   "source": [
    "len(similarity_score)"
   ]
  },
  {
   "cell_type": "code",
   "execution_count": 22,
   "id": "8a857869-bee1-4b77-a68e-e2ab09257a46",
   "metadata": {},
   "outputs": [
    {
     "name": "stdout",
     "output_type": "stream",
     "text": [
      "[(2790, 1.0000000000000002), (3688, 0.18512319185495643), (645, 0.17750757779232312), (471, 0.14857581806105413), (3172, 0.14289581668624207), (3990, 0.14144692044196705), (73, 0.13752634316101903), (1408, 0.13675294359776954), (3, 0.13528715820697174), (1889, 0.13513405231482453), (3048, 0.13433147944463794), (3278, 0.13114648766377937), (176, 0.12506087223547213), (1991, 0.12418871044358805), (3180, 0.12361470353790965), (119, 0.12196038424680103), (95, 0.11981682803258176), (1338, 0.11872132925224525), (2640, 0.11802650273962338), (2539, 0.11729550351104841), (186, 0.11440648675451497), (3662, 0.11391316876890847), (984, 0.11246805701213328), (3645, 0.11044192606012071), (4307, 0.1096625630875768), (1364, 0.10959499324579106), (744, 0.10893349199586386), (3881, 0.1074201947649469), (282, 0.10735843261189072), (422, 0.10705349829541327), (2476, 0.10609090189969625), (1365, 0.10573625694937218), (3810, 0.1055508976449412), (1272, 0.10541498013550724), (3870, 0.1052213071268466), (1719, 0.10481978325950113), (725, 0.10400152845392283), (551, 0.10352368733281943), (3863, 0.10305767741827515), (2349, 0.10303541272829389), (3737, 0.10285617132893), (4511, 0.1023176965834087), (2077, 0.10202250043016635), (448, 0.1014281683125755), (3413, 0.10121539236345774), (4782, 0.10087249796950112), (614, 0.1004653572469619), (512, 0.10031899073556044), (3178, 0.10023842674475558), (2368, 0.09958835066947656), (1475, 0.0983394652539866), (2353, 0.09824679633541852), (160, 0.09796822402623126), (442, 0.09765713435470746), (3073, 0.09636366031814265), (3536, 0.09564574923141861), (24, 0.0954998625810949), (3181, 0.0950390292950996), (2375, 0.09465404917339099), (1132, 0.09462997303291529), (3687, 0.09441130553087734), (3356, 0.09439913653334724), (1835, 0.09367629667824673), (2480, 0.0932207225891556), (1067, 0.09310727021063593), (1501, 0.0930787135911027), (1728, 0.092396673296847), (1634, 0.09095716516864903), (20, 0.09059654407732404), (3411, 0.0904232398589854), (440, 0.09034606285578117), (1446, 0.09015632089848741), (4015, 0.08985966580699682), (2514, 0.08946765595181642), (4649, 0.08943710547006997), (954, 0.08923986473012441), (1013, 0.0889644290747112), (2989, 0.08879960332364592), (1503, 0.08812380457701843), (2068, 0.08758658245983136), (2008, 0.08751662052364301), (1258, 0.0869266868036477), (2061, 0.08677794531274485), (387, 0.0857465897752271), (536, 0.08563294082000053), (683, 0.08529803017014283), (4119, 0.08526950092910472), (1516, 0.08461943656766766), (2459, 0.08419434616942165), (912, 0.08398983100369382), (3515, 0.08379695950796866), (924, 0.08362073489430046), (1167, 0.08346510130498613), (1774, 0.08332113143228388), (3267, 0.0829425825598968), (257, 0.08272126781060149), (4399, 0.08249716755229035), (104, 0.08183294303074194), (3337, 0.08178218102135179), (983, 0.08123169866082518), (4252, 0.08115607258989575), (3064, 0.08092084351436385), (2414, 0.08062823271684579), (829, 0.08053683504242316), (4429, 0.08048962774867054), (2020, 0.0804632254423538), (1181, 0.08003605482634477), (990, 0.07999620555100223), (2862, 0.07982905829960267), (2237, 0.07941436169466655), (1002, 0.07937913160576053), (1866, 0.0791645003693683), (3910, 0.07912430925927819), (1032, 0.07881622136331659), (305, 0.07873213963825601), (144, 0.0786067295705412), (2102, 0.07823788854597445), (2886, 0.0781644996809107), (2080, 0.07753087878756387), (1578, 0.07704791693230671), (825, 0.07697147867557931), (469, 0.07570895146393566), (2570, 0.07567251490760964), (4271, 0.07548120101402225), (135, 0.07543900356739193), (82, 0.07532750561941089), (1297, 0.07528452497923407), (2218, 0.07522792256921193), (209, 0.07513400107572195), (3765, 0.07510645875309334), (545, 0.07479917237991038), (1124, 0.07472065445690135), (2460, 0.0746500382636148), (583, 0.07444389615395011), (1234, 0.07427761337838107), (2582, 0.07401992517606062), (3924, 0.07389955251581813), (322, 0.07387595189452648), (3245, 0.07386740518621121), (1528, 0.0737268828601814), (3311, 0.07329604834001253), (224, 0.07293092027583312), (2543, 0.07255669591907342), (3080, 0.07242930043535505), (1246, 0.07221690640814453), (4479, 0.07191687345980549), (2751, 0.07182291601129989), (3704, 0.07162725757237641), (117, 0.07157667067030811), (1890, 0.07155276866781397), (2373, 0.0710896616318843), (901, 0.0706821561540365), (4270, 0.07053789588182686), (137, 0.06980059309662395), (1018, 0.06955187037520026), (4589, 0.06951891724387504), (1671, 0.0692473692741625), (558, 0.06898614043957417), (4078, 0.06883685746514642), (1900, 0.06865653150977959), (2822, 0.06858433678460162), (1543, 0.06824146561430261), (665, 0.06795934904265781), (1164, 0.06733385817405656), (2060, 0.0673196095835227), (1657, 0.06724859953438025), (3435, 0.0671893956280449), (3561, 0.06718000440905102), (2089, 0.06685480187564238), (2380, 0.06679595773394205), (1088, 0.06678662249528329), (1286, 0.06660029805919203), (3375, 0.06605749485695486), (4778, 0.0660286218780021), (4654, 0.06579162785214114), (1978, 0.06560622223338027), (2521, 0.0654192653867142), (449, 0.06537129122380789), (2879, 0.06536243271324517), (4083, 0.06524042914883427), (2000, 0.0648451134282161), (3625, 0.06472195686614615), (328, 0.06468749314278914), (4192, 0.06455242359090958), (3113, 0.0645138852383957), (1320, 0.0644890918513995), (2491, 0.06437972200381571), (802, 0.06433795941009224), (461, 0.06430804070290762), (3390, 0.06418371459116332), (754, 0.06398760043666395), (1812, 0.06329908780296718), (60, 0.06312365876685765), (3088, 0.06308087496006731), (2885, 0.06301878763910895), (3615, 0.06296979452510082), (3622, 0.06294382038013922), (4225, 0.06294326700095884), (3750, 0.06264194877391493), (3978, 0.06233158120465651), (1405, 0.062147604149444535), (2103, 0.062056248243747725), (2354, 0.06200958411537366), (3647, 0.06196708706524394), (2594, 0.06184143363878678), (65, 0.0618246873708711), (3026, 0.06155158984836039), (570, 0.06145153790768195), (3813, 0.06116355949920053), (554, 0.061108787617247036), (3944, 0.061020405890679384), (3705, 0.060946135397926954), (1343, 0.06084100461696068), (1792, 0.0606721661289778), (3774, 0.06065494585358912), (3669, 0.060323983277320414), (2719, 0.06032298707498611), (603, 0.06021962437731491), (2657, 0.059816087154936574), (2053, 0.05972255173186861), (4172, 0.059720851620732415), (998, 0.05967900556404824), (2463, 0.059356646398104264), (1207, 0.05929693816782727), (3753, 0.05917456015701373), (4445, 0.05858785459878192), (4524, 0.05853749981158839), (1897, 0.05853135714132108), (3074, 0.05852322992358965), (191, 0.05818664945775678), (2644, 0.058121421848766), (1649, 0.058060170027621726), (724, 0.05803757607208032), (3290, 0.05793111062815054), (2038, 0.05791519385937975), (288, 0.05777811349438719), (2535, 0.05768868426226834), (1393, 0.05754036726228737), (1352, 0.05741686449946465), (4487, 0.057401176562538736), (1264, 0.05723542826317179), (3974, 0.05706607254054885), (1202, 0.05692992678514598), (1102, 0.0566912591903865), (2703, 0.05668509486679731), (3976, 0.05660776357221564), (873, 0.056423951110787), (506, 0.05639414313381899), (1401, 0.056385808908441096), (2682, 0.05636070313191357), (3579, 0.056155568791928956), (975, 0.05613917633794652), (2592, 0.05610372297130774), (3452, 0.05609663030294977), (372, 0.056072533261149984), (3922, 0.05580150972446379), (1363, 0.05575339363220785), (2466, 0.05574593688854305), (2734, 0.05567918198441399), (2361, 0.05560146492571638), (225, 0.05556262221708736), (3029, 0.055463628927587785), (1262, 0.05529344208493693), (1961, 0.05525815840635025), (4178, 0.05524334264635023), (1218, 0.05520169162558128), (3741, 0.05513526540451778), (782, 0.05493953823626466), (3739, 0.05485319951266218), (284, 0.054770323683055885), (396, 0.05463123978700755), (3455, 0.05461988179232487), (2741, 0.0545704851243311), (2914, 0.05444462366366525), (3117, 0.05443507039304661), (96, 0.05428887662361054), (3611, 0.0540944849496201), (265, 0.05383260404009411), (3183, 0.053820448884480995), (2561, 0.053804240698212456), (421, 0.05377485747863381), (1329, 0.053723475528805284), (741, 0.05370217538299332), (731, 0.05360083173597989), (246, 0.05347491071497909), (876, 0.053468847408860876), (942, 0.05340592064274789), (2233, 0.05335437242631701), (1347, 0.05335319810419342), (3638, 0.05329316827093641), (1964, 0.0532327332210064), (3644, 0.05317394961094579), (2668, 0.052989566510662146), (4610, 0.05289015776743843), (1654, 0.052839158252129224), (4739, 0.05281126908729668), (1874, 0.05260577166142326), (1050, 0.052421751189136806), (2717, 0.0523757226379576), (2836, 0.05236739719363745), (946, 0.052335963861774075), (358, 0.052241956411532633), (4527, 0.05214907646770698), (3843, 0.052137989653673764), (3550, 0.05202209736333129), (992, 0.05190536389738603), (1058, 0.051874723945080796), (4358, 0.051838217801735656), (11, 0.05177381548652247), (283, 0.05156174838665505), (3273, 0.0513918913037225), (1749, 0.051345923040948795), (3084, 0.05127951545483697), (3728, 0.0512545036203338), (4223, 0.05123948691840718), (1295, 0.05118252885314893), (4374, 0.05111905846430544), (710, 0.051091773193902096), (4136, 0.051016908248458545), (4067, 0.050985447424278), (3723, 0.05093431835365832), (823, 0.05083948073756901), (1817, 0.050799160329398615), (1800, 0.0506220094818462), (2789, 0.050201680090716315), (2621, 0.050173504439904364), (718, 0.05006593515003055), (2134, 0.050064398911148236), (1668, 0.05002705325861429), (1717, 0.05002465307446901), (2366, 0.049983461164657524), (3372, 0.04997783346726693), (1523, 0.04994563655042948), (2146, 0.04991411990505755), (2040, 0.0498085811021775), (3866, 0.04965110555667883), (2791, 0.049575858522382374), (1136, 0.04953717838034978), (1594, 0.04948081663702174), (1957, 0.04928099013788053), (1955, 0.0491703459508119), (4315, 0.049163243670329426), (1110, 0.049145572604862714), (773, 0.04907972873140877), (2830, 0.04899789722885354), (4388, 0.04890364559384519), (4324, 0.04890219727578403), (1223, 0.04886426919139342), (2029, 0.048827696605406264), (3649, 0.04875821045093511), (2996, 0.04870922038083788), (4174, 0.04855618315621123), (2239, 0.04849583497466023), (762, 0.048353927234723676), (3040, 0.04821675241518173), (1773, 0.04809884586676245), (1852, 0.04807279259740773), (4477, 0.04806609331734102), (4578, 0.04804276499281729), (4703, 0.047976476068638016), (3229, 0.04792996511743147), (157, 0.04787092621486164), (1052, 0.047700902823495185), (1300, 0.04761755994580243), (3394, 0.04755746255512999), (742, 0.04750585164901546), (1752, 0.04747797557512427), (4365, 0.047374916083837815), (3472, 0.04727263738497616), (3486, 0.04718432148557647), (1384, 0.04712950423267938), (3031, 0.04706030757302167), (2635, 0.04700317323219361), (4573, 0.04694061047505851), (1317, 0.04688175533200931), (2318, 0.04682720757810713), (962, 0.04678181917462289), (2282, 0.046760292269695636), (862, 0.04632905612414755), (3891, 0.04631178934532553), (4457, 0.04624280611846298), (4157, 0.04620659749482345), (3376, 0.04615444004528028), (751, 0.0461147975572085), (1440, 0.046065754399269014), (314, 0.04602040932959394), (1910, 0.04601293644676757), (810, 0.045959944290635664), (3114, 0.04557680233745859), (2469, 0.04554357706333674), (1805, 0.045379592585345345), (315, 0.04519618992317929), (304, 0.04519434288786378), (3262, 0.04502441413815221), (3636, 0.044917508872025703), (1118, 0.044810546111206134), (3116, 0.0446590134287444), (4090, 0.04457703197936222), (4599, 0.04456641142228958), (1400, 0.04455847182136263), (338, 0.044345307401022986), (2094, 0.04427632926941163), (3530, 0.04423761931458297), (4082, 0.04413101840672539), (3934, 0.04409425861336955), (366, 0.044057593258983035), (968, 0.04403517737279884), (3954, 0.04399649372161455), (2229, 0.04395396558797346), (3831, 0.04385278616326299), (4371, 0.043806547785314065), (1590, 0.043762802719796684), (2666, 0.043635486901224624), (4696, 0.04355714823100627), (4051, 0.04347092821165957), (3977, 0.043457039183404884), (4642, 0.04335427630604419), (3969, 0.04329906661656482), (2960, 0.04322281257768195), (1196, 0.04319446817941239), (1930, 0.04317948280983638), (789, 0.043096672340924826), (1231, 0.04305278077732513), (2596, 0.04304003925675791), (1464, 0.04303344311984406), (706, 0.04298909302951237), (693, 0.04294142368261658), (2470, 0.04293446510579545), (1988, 0.04291670077369268), (1840, 0.042876605942364227), (2522, 0.04281071324655639), (344, 0.04279026925525975), (1637, 0.04278604314365375), (602, 0.04263043921032039), (2941, 0.04249686874725159), (3380, 0.04248602096426316), (2708, 0.04243247621295751), (1455, 0.042395275325505646), (1892, 0.04234192747041473), (1624, 0.04231381747118152), (1696, 0.04227873190629882), (3583, 0.04220341605111302), (3288, 0.042198653172107366), (234, 0.04210282678604117), (1612, 0.04202170966874487), (4320, 0.04201031744491869), (3357, 0.042006520791424584), (4397, 0.04193697014067718), (1592, 0.04192734394966042), (2066, 0.04189864904956481), (3062, 0.041860312734668316), (88, 0.04181320719028671), (1767, 0.04169682888775478), (4631, 0.041671107784583765), (3083, 0.04167064728245002), (590, 0.04165906961173253), (707, 0.041616102834236966), (4638, 0.04155171268433493), (4368, 0.04144401318145758), (2573, 0.041423672464432265), (541, 0.04132362338425836), (4286, 0.04130503706079267), (1047, 0.04124138247065327), (798, 0.0412260354466268), (4447, 0.04117418076319367), (2990, 0.04113131601928331), (759, 0.04101127556221456), (1123, 0.0409773899640172), (1335, 0.04091768910658845), (419, 0.040850883664966545), (4408, 0.04082055540176725), (978, 0.040814177588891894), (2609, 0.04079630532170357), (3921, 0.04072381686195592), (3177, 0.040671312793047386), (2524, 0.04056481529347662), (2263, 0.04055308373385115), (826, 0.04049960545163627), (2667, 0.04049854924367959), (280, 0.04043363152790932), (534, 0.040398850058077355), (3637, 0.04039556396540025), (1072, 0.040266971618910845), (1416, 0.040164051356904505), (2026, 0.04008807251279583), (3807, 0.040049323950348756), (4448, 0.040030778324496745), (1247, 0.03998237178587862), (1796, 0.039937009041137714), (4099, 0.039920975423241634), (4533, 0.03989682688749426), (600, 0.03985672045867962), (2206, 0.039824338642967166), (1927, 0.03978772588389761), (936, 0.03977413508615643), (4016, 0.03976566888235808), (1025, 0.03976294253714641), (3257, 0.03975712248621082), (2017, 0.03968196745291644), (817, 0.03965147352349864), (2878, 0.03964136706423407), (2778, 0.03963223261986394), (1973, 0.039573151311903414), (297, 0.039560361555039586), (2983, 0.03955775878171049), (2813, 0.03954026744293296), (4635, 0.03944121149865453), (3359, 0.0394018802453836), (2773, 0.039390943279783354), (1315, 0.03939017507230161), (4626, 0.03934341001401859), (4092, 0.03931713401731863), (4519, 0.03930468985400621), (4378, 0.039259412760132846), (4772, 0.039212187588019386), (4526, 0.03906940779240836), (3366, 0.03905794276812753), (2091, 0.03900426202200642), (250, 0.03900202495145178), (3518, 0.038942282925521786), (4100, 0.038925830290151786), (1219, 0.038895944596363495), (1271, 0.038859796274963054), (3837, 0.03885145500672286), (3509, 0.03877557563667477), (4545, 0.03874788138375575), (2907, 0.03869937658109103), (4046, 0.038684765408426434), (3209, 0.038682523227405056), (113, 0.038547814605058746), (1945, 0.0385029429727807), (4249, 0.03846119172566123), (3165, 0.038354685085726606), (1350, 0.038321327434457486), (1190, 0.038279480826067545), (4602, 0.038174714455093336), (2560, 0.038153699146247805), (2378, 0.03809152110787842), (1145, 0.03808330007883071), (4418, 0.037927292887538294), (4717, 0.03785779785540098), (806, 0.037854120601186224), (4472, 0.0378490155014501), (631, 0.03777399953543388), (3984, 0.037764470383706075), (3086, 0.03766281527062421), (4256, 0.03763455243553198), (1120, 0.03762960965921757), (809, 0.037622596872335004), (851, 0.03748770738007238), (1952, 0.03747447042872311), (2874, 0.03743785110016393), (2515, 0.03738539089073322), (702, 0.037333821256376805), (3196, 0.037306043082145864), (3386, 0.03728468199940208), (4065, 0.037277731366686495), (4760, 0.03726010381256394), (3542, 0.037098180839996414), (1019, 0.037075275402743635), (960, 0.03703977094274596), (4177, 0.03703819314491515), (4296, 0.03700987421941894), (4441, 0.03695965649567805), (1577, 0.0369163984925616), (1220, 0.03684362509955026), (2793, 0.03682841553871978), (1273, 0.03681668957556651), (2362, 0.03681209023397379), (830, 0.036809845642024976), (2003, 0.03678521889730644), (1605, 0.03675382525545593), (3788, 0.036613535404353574), (670, 0.03659871811470428), (2421, 0.03659313660316413), (3759, 0.036584824976594404), (548, 0.03656127488996901), (3712, 0.036551324176623226), (2195, 0.036546155894377305), (1274, 0.03649589221222091), (295, 0.036486613243431644), (2376, 0.036447382036655825), (2946, 0.036399733948820956), (2173, 0.03639734608922652), (2092, 0.036362764017762034), (2519, 0.03635123161658931), (1781, 0.0363479529165771), (1861, 0.036343943471055504), (2187, 0.03632168161574491), (1724, 0.036304640807574055), (2442, 0.036296947181817245), (4000, 0.036289719040590175), (1739, 0.03628440036848742), (1540, 0.036233010380154966), (3063, 0.03621051021227567), (2707, 0.03609728785945437), (941, 0.036082389946029816), (3495, 0.03607148830259865), (4752, 0.036040567282955155), (879, 0.03603592731639983), (1240, 0.036027102903031565), (1471, 0.03602538050702259), (971, 0.03601887210974401), (2176, 0.035972060945120815), (4748, 0.03596166048797714), (4687, 0.03593266809576811), (3057, 0.03586138273885371), (784, 0.035787349599023355), (3678, 0.03578568279154114), (2677, 0.03574064441025786), (3850, 0.03571621720199669), (3480, 0.03570703290006588), (804, 0.0356273362319008), (1176, 0.03562586807061993), (3827, 0.03558963908811892), (3529, 0.03557546983311536), (2614, 0.035574762131072774), (877, 0.035569072161059395), (2529, 0.035554794650064385), (2049, 0.03552443358324974), (1227, 0.03542261856103511), (3110, 0.03541439019873263), (3078, 0.035414165753623786), (3664, 0.03536702095466002), (4013, 0.03533389427461316), (2356, 0.035259431856258544), (4640, 0.035258016500961546), (43, 0.035250137171137196), (3873, 0.03523574736097671), (993, 0.035231229341069696), (3826, 0.03522802611419177), (1655, 0.035204851977520074), (428, 0.035199883815579744), (869, 0.03518859758285), (1292, 0.03517535940836741), (3925, 0.03514849260355505), (3021, 0.03509165429924772), (3676, 0.03507725982678393), (4171, 0.035076933671912655), (1896, 0.034997522143675394), (3899, 0.034959177497097906), (3784, 0.03490789581176339), (3593, 0.034907831252338664), (4454, 0.0348782879228774), (4443, 0.03483157975811389), (3297, 0.03478597785429265), (3192, 0.03477118394764004), (1789, 0.034769230399131865), (1963, 0.034761406955214985), (3421, 0.03474497500118603), (1149, 0.03472681660557515), (3247, 0.0347158922260129), (1515, 0.034689144350236026), (1944, 0.03468079447103933), (4295, 0.03461371769234206), (3628, 0.03458026350328038), (1063, 0.034546819329037706), (2181, 0.0345335525766389), (1009, 0.034492111698178285), (1419, 0.03446747889353933), (1556, 0.03446503335827906), (3490, 0.034446959860773244), (2824, 0.03444346232702224), (331, 0.034423831452538495), (3806, 0.034419153033664), (2786, 0.03434011268091541), (300, 0.034279942238712495), (979, 0.034275222363694124), (2047, 0.034232856411642955), (3250, 0.03420335340093658), (4203, 0.03415027805576818), (3635, 0.03414140902142693), (3859, 0.03413241165713494), (2371, 0.03411439926328349), (3270, 0.034095406813525894), (2858, 0.03405982151096126), (2111, 0.03402132249526735), (3916, 0.033993275470748076), (1827, 0.033938925967395575), (112, 0.03393468353323723), (4243, 0.03387589223708229), (3979, 0.033851239352861606), (872, 0.03384833622075571), (3237, 0.03384320661134703), (3734, 0.03383065654351493), (4110, 0.033737554945441825), (1046, 0.033718680321373706), (3139, 0.03363801967764106), (3711, 0.033520803421595774), (217, 0.03349943775231069), (1193, 0.033487241722365634), (2478, 0.03344782669790645), (4106, 0.0334224817217623), (3418, 0.03341029248633048), (2577, 0.033392174858577414), (2398, 0.033344844700414586), (1917, 0.033316758537079966), (2803, 0.03328137699624749), (1183, 0.03326929535132348), (3836, 0.03326720523676477), (2497, 0.033264423362669944), (188, 0.03325866040615532), (2861, 0.03324379913865074), (1591, 0.03321721423007349), (4538, 0.033171607753034876), (1239, 0.03314987115179318), (2687, 0.03314978302665203), (1967, 0.03312250788344939), (4318, 0.03312072172637974), (1199, 0.033112409389437075), (3339, 0.03307606325158287), (4337, 0.0330632008657066), (2676, 0.03304721773722102), (1053, 0.03303146321580163), (553, 0.03302211266886551), (1996, 0.03296687377316698), (2871, 0.032966864565528005), (1621, 0.032923743107010205), (3238, 0.032906939302063266), (3134, 0.03284264621660231), (2545, 0.03282720455822638), (2782, 0.0328028272494541), (795, 0.03277070960562826), (1768, 0.032768257143162796), (3397, 0.032760080268252265), (1993, 0.03275621368466314), (3440, 0.032703415287630114), (972, 0.03266301488298162), (4063, 0.03262101416079952), (2797, 0.03257163290117564), (2138, 0.032565006061367016), (3358, 0.0324949042157557), (4280, 0.03249292551336081), (607, 0.03237204569112074), (3401, 0.03233828576215092), (2329, 0.03228231351059299), (3122, 0.03221294908376278), (4770, 0.03219513640961683), (4005, 0.03214909979714019), (950, 0.032135070750220936), (2627, 0.03212896463260675), (3473, 0.03212896454790015), (1845, 0.032105818795530316), (2906, 0.03209285225850789), (4361, 0.03208246661528502), (4733, 0.032080176854101916), (4017, 0.03207867863143585), (4327, 0.03202723176744642), (3786, 0.03202030743794628), (1438, 0.031981042485149866), (3350, 0.031976355981005976), (4101, 0.03196862187522387), (2780, 0.03195398098382023), (3294, 0.031941615314205495), (3485, 0.03194075096835187), (2978, 0.03192885896117103), (3306, 0.03185646655784399), (4430, 0.03177273577644358), (4326, 0.031763401465179406), (3151, 0.03176024054654646), (4414, 0.03169263130210429), (4688, 0.03167592281326448), (3488, 0.031637276465073), (159, 0.031584765249702836), (849, 0.03157932997239179), (4127, 0.03157117801484856), (4401, 0.031565207999784496), (1583, 0.03153565448982864), (1030, 0.03153485705509948), (3336, 0.03152806576497563), (494, 0.0315018713059175), (1107, 0.031500223114168384), (2855, 0.03149954729575608), (323, 0.03145217716833059), (3342, 0.031421262909885284), (2565, 0.03141468740388223), (2701, 0.03139758418441559), (539, 0.03137905511354049), (3111, 0.03137533191633827), (2364, 0.0313684219550513), (3913, 0.03128606763027429), (1627, 0.03127927063483103), (3668, 0.03126725986874877), (4023, 0.03125854212381018), (1932, 0.031243542110731846), (4768, 0.03110106879302667), (660, 0.03109690634210458), (1895, 0.03108585891476478), (3186, 0.031061425325235002), (1210, 0.031059682064155027), (3805, 0.031055511729186608), (969, 0.031055022218688232), (3682, 0.031044094767455125), (3332, 0.031040394676182775), (2244, 0.03102995723256459), (4455, 0.031013330332487717), (3749, 0.030985565790650108), (1092, 0.030977949428635874), (1432, 0.030908018439134106), (4251, 0.030902865351464085), (4392, 0.030879088747275796), (106, 0.030878441008643606), (271, 0.03086050879301956), (128, 0.030842072262599246), (2870, 0.030819766170645517), (3323, 0.03076993473954301), (713, 0.030751743251607695), (2196, 0.03071876544832669), (2107, 0.030703645884447774), (2726, 0.030667362233429706), (4800, 0.03065877542319178), (2558, 0.030595620620919164), (4024, 0.03052158482824839), (273, 0.030492012441564915), (1360, 0.03048583865868769), (4055, 0.030473893812064258), (3510, 0.03042849326151094), (4291, 0.03042668357479106), (1109, 0.030413426898566156), (4706, 0.030397228335814083), (2884, 0.030378572699086046), (694, 0.030326127136190505), (3211, 0.030319341766180032), (2203, 0.030315659335835746), (4019, 0.030311918421195617), (1028, 0.030303011333717406), (944, 0.030299581263654486), (2283, 0.030298108657237706), (4185, 0.030295533596731577), (4235, 0.03029048462977401), (4518, 0.030272485092038157), (2613, 0.03026969291198037), (1373, 0.030264453772208474), (1249, 0.030263890696260145), (2323, 0.03020384394308345), (2035, 0.030182325043140862), (267, 0.03016636146616301), (3699, 0.03016028497648588), (2736, 0.030153816872645168), (3222, 0.03014387197083048), (4197, 0.030121968077658094), (2043, 0.030119288044565425), (382, 0.030085870821734913), (4279, 0.030050042516340136), (1745, 0.03002782498699444), (4086, 0.030022269181015696), (3634, 0.03002094521938401), (1245, 0.03001023925025287), (2275, 0.030003084079602657), (480, 0.030001893460985626), (2253, 0.029980233934554103), (4663, 0.029966064917715633), (316, 0.029957254214032433), (3483, 0.029955506573405462), (2308, 0.02995057289100977), (3352, 0.029941304384364528), (4342, 0.029937292581659607), (2691, 0.02992124784703003), (412, 0.029921224882817093), (1706, 0.02988533363836429), (1370, 0.029864464297697537), (1675, 0.029835926814324395), (767, 0.0298113600541015), (2172, 0.029804976542991895), (2756, 0.02978630021134076), (3280, 0.02975341063076565), (4532, 0.029709442112735757), (2136, 0.029707370505739107), (2118, 0.02967302990797644), (203, 0.029664462203351033), (3384, 0.029662619899740707), (3289, 0.029650502519448757), (3726, 0.029648818928150474), (2260, 0.02963495731514212), (215, 0.02960881944312946), (4786, 0.02960212610290163), (2642, 0.02958524495450164), (3506, 0.02958089774315932), (2207, 0.029568008782974945), (213, 0.029533651280137685), (1645, 0.029529188690735945), (1359, 0.029524464593025945), (1127, 0.029523177578713908), (3075, 0.029515152651304603), (4456, 0.029488395591628025), (2639, 0.02942816287471363), (1020, 0.02939072122980024), (156, 0.029346798585497068), (4140, 0.029341688374752765), (1162, 0.029339132324378677), (528, 0.029326199668651153), (1459, 0.029316213485685673), (320, 0.029301729421496434), (3424, 0.029288280801716655), (949, 0.02926778435706042), (3748, 0.029266013364772303), (4793, 0.029239634598185626), (3173, 0.02919247174169776), (2188, 0.029178506762299813), (1699, 0.029171529341453853), (2809, 0.029150634471435653), (1615, 0.029149692033583044), (779, 0.029121903668000743), (681, 0.029119986188953534), (4129, 0.029078487957162162), (3197, 0.02906833891197184), (2493, 0.029022267756152895), (3878, 0.029007331329918132), (180, 0.028996403094437188), (1799, 0.02899461440670953), (4007, 0.02895441037951351), (350, 0.02895357211600414), (753, 0.02891351266827738), (3710, 0.028895263292102825), (930, 0.028828603380631486), (4335, 0.02882005701957172), (632, 0.028793474687159266), (1546, 0.02873849655344725), (629, 0.02866519604859142), (561, 0.028608807490324035), (2367, 0.0285481063552843), (2867, 0.028541464196246612), (2966, 0.028531523432857933), (1510, 0.028529592803171154), (4130, 0.028481504003903403), (2508, 0.02847416659772793), (589, 0.028463108090895244), (3981, 0.02843036583575985), (3680, 0.028421521696195648), (680, 0.028401987862378984), (4525, 0.028382579907663928), (1784, 0.028377949627134663), (1334, 0.02836312281980974), (2149, 0.028363019510269913), (3244, 0.02834473406812716), (2285, 0.028327857456371383), (2461, 0.0283061436216841), (4747, 0.028285481253046106), (2779, 0.028282289820424873), (1216, 0.02825103251321371), (3499, 0.02823532174486221), (2048, 0.02823237440434488), (1924, 0.02822365814025091), (3869, 0.02822102631884143), (1579, 0.028207091588748977), (3465, 0.02819153816725641), (4661, 0.028191415573443554), (1346, 0.02818605750335896), (3633, 0.028160337947914477), (1891, 0.028155193310084634), (1783, 0.028139278549988413), (2434, 0.028138425959190597), (4775, 0.02803901398987514), (3304, 0.028007415860235262), (3820, 0.027991619572985526), (2897, 0.027968418993863105), (3911, 0.02793509975216662), (270, 0.027930067622471993), (2936, 0.027918572848036068), (3949, 0.027887713317958446), (2070, 0.0278672562433936), (874, 0.027837098561067926), (3227, 0.02781435893905569), (3068, 0.027805275192095216), (3201, 0.027796232490572573), (3616, 0.027776783573219284), (644, 0.027761080653686283), (2384, 0.0277517821866066), (3503, 0.02768114465543451), (148, 0.02767665848758965), (1308, 0.027675300877767203), (1647, 0.027653170890132642), (510, 0.027554104522493666), (3935, 0.027543899750366228), (3613, 0.027531343570178373), (1178, 0.027508830840020967), (4501, 0.027507396407406348), (2958, 0.027485664990263795), (1443, 0.027447603014335877), (2583, 0.02743238314932523), (2569, 0.02743118332377361), (2129, 0.027405397917351595), (3153, 0.027385594596697767), (3603, 0.02738536244432782), (2925, 0.027368545253093166), (622, 0.027242004463504756), (3161, 0.027237345495566924), (4277, 0.02722574306197218), (4601, 0.027223445930250622), (1751, 0.0272030595340536), (1688, 0.027192206854084536), (523, 0.027166180024575375), (3763, 0.027108692887866662), (1549, 0.027097331841350637), (2389, 0.027096475760819114), (4563, 0.027093009079485014), (2056, 0.027086677400782216), (3429, 0.027080558605661918), (4675, 0.027045141877538276), (236, 0.027042676305179397), (2604, 0.027028664381142875), (3291, 0.027018178986417982), (1560, 0.026959560694984293), (1975, 0.026944636133762807), (1490, 0.026922063021901928), (3146, 0.02690683446022689), (1704, 0.026854525566900607), (1412, 0.02680444465222732), (2407, 0.0267794138862876), (768, 0.026777399234663324), (530, 0.026761399475524618), (3685, 0.02675792442435485), (1175, 0.026757041628164835), (2603, 0.026737530322599012), (3159, 0.026733162428626465), (1849, 0.026685543812477862), (3966, 0.02667927423577518), (2555, 0.026666598470353256), (3960, 0.026665443493700938), (3285, 0.026664217105292473), (4373, 0.026651026742615432), (3077, 0.026650700692909285), (532, 0.02664978555791877), (3195, 0.026638577591611173), (1296, 0.02662836556556982), (1665, 0.026581556416335896), (3507, 0.026554948998049985), (2022, 0.026550884019051993), (2054, 0.02652079252809776), (4132, 0.026519558476595182), (2918, 0.026514132576420775), (1635, 0.026506228787343166), (1775, 0.026484600043489282), (4393, 0.02648335317983612), (2829, 0.02647653775285925), (402, 0.02647515477797376), (172, 0.026462416112110202), (3293, 0.026447345333097595), (2819, 0.02644479010772002), (3409, 0.02641730260257616), (688, 0.026399453741237495), (4535, 0.026358474647539758), (4059, 0.02635755511366021), (3780, 0.026347519717427194), (2713, 0.026299967303962807), (1431, 0.026296550649191362), (1372, 0.02625693646285894), (1462, 0.02624785257525148), (527, 0.026242747430285054), (4697, 0.02621028602274518), (3768, 0.0262047244610235), (1982, 0.02618080841281226), (2255, 0.02617306307177654), (3041, 0.02616946326608674), (3519, 0.026165272819170193), (2153, 0.02614978741530346), (2014, 0.02614605888989223), (2805, 0.026093733876197383), (2489, 0.026093288725240985), (2290, 0.026090603057495797), (1816, 0.026090094225950367), (2921, 0.0260793962513009), (4135, 0.026034637911817378), (2531, 0.026033318191392943), (610, 0.026021278164720326), (3239, 0.02600223443916534), (3694, 0.02596152368894678), (2166, 0.025952190109149644), (1467, 0.025940728926876475), (4594, 0.025936847195617906), (1472, 0.025924066733584536), (2771, 0.025907646230749478), (3766, 0.025896465097724326), (4671, 0.025873702442834913), (3875, 0.025859531579605445), (2589, 0.025848026801314178), (2031, 0.025846597267702942), (2426, 0.025835033676869096), (2982, 0.025831520165814567), (4113, 0.025814032584146246), (4583, 0.025799989640575373), (2231, 0.02579983709920623), (4681, 0.02578110405389375), (1832, 0.02575204698252504), (3968, 0.02575086197306128), (3448, 0.025710954429295354), (1394, 0.025705926813174535), (4012, 0.025693811592943195), (730, 0.025682726549299095), (3851, 0.025678250728388387), (4054, 0.025653583195908485), (4247, 0.02564900783544597), (1137, 0.025632854073800917), (4020, 0.025632738173299897), (1766, 0.025622659696075627), (4155, 0.025616323163760675), (2194, 0.025607131133167642), (1873, 0.02555983835496852), (613, 0.025540622720153502), (2267, 0.02553045202130697), (3789, 0.02552632692312382), (3970, 0.025524097370369755), (794, 0.025508200765825068), (3599, 0.025504249027528157), (3410, 0.025487201705034403), (1084, 0.0254712400126817), (4646, 0.025449070781113595), (2710, 0.02543433591760367), (1000, 0.025418700755875726), (3846, 0.025402253955844976), (2424, 0.025400362632897275), (4216, 0.025366973942573857), (2468, 0.02536183303430508), (1031, 0.025353819266386978), (746, 0.02530508103736539), (2939, 0.025298442794328177), (2950, 0.02526494779232826), (1760, 0.025248154950052847), (635, 0.025247914836450266), (1998, 0.02523237255462775), (1803, 0.0251963244226655), (574, 0.0251938676344937), (2777, 0.025191142527480122), (1483, 0.02518492783964791), (1573, 0.02518271563089775), (3202, 0.025159985978565166), (4300, 0.025151306190949227), (4381, 0.025141158640730927), (4311, 0.02514029478887434), (2169, 0.025113154459874585), (1851, 0.025108379878900768), (3700, 0.025080820529063744), (1567, 0.025073542536725276), (861, 0.025072315949477012), (1564, 0.025065286935665454), (164, 0.025063119659282488), (3607, 0.025055783068277476), (4572, 0.025036611167059554), (3198, 0.02503081207441924), (2427, 0.025026978454820846), (2125, 0.024993812805504827), (2346, 0.024985081796690376), (3872, 0.02497893088675038), (309, 0.024952500729701822), (3400, 0.02495044243882489), (505, 0.024891385748302117), (3125, 0.024880692045301946), (2875, 0.024859410068236852), (373, 0.02484835171986226), (1366, 0.024833447599948245), (1664, 0.024829659594374547), (4313, 0.02481056508807845), (383, 0.02480893402345867), (3679, 0.02476057809739156), (69, 0.024757723405363787), (1884, 0.02474220972784582), (3714, 0.02472201805280939), (3646, 0.024711230305009914), (336, 0.02469393396928382), (2540, 0.02467919320974908), (2474, 0.024671431175564945), (1253, 0.024623192922934554), (615, 0.024590958070293906), (1667, 0.024543003649496974), (2455, 0.024542492893122405), (1298, 0.024537347287534594), (1382, 0.024518848145822884), (677, 0.024515483669948167), (1527, 0.024494452747384543), (1146, 0.024484175442648994), (3576, 0.0244499632796461), (535, 0.02442654190828449), (3655, 0.024358089250028962), (729, 0.02435330817194957), (2927, 0.024345111033158732), (2301, 0.02434108332595846), (1795, 0.02432944440539187), (3931, 0.024329329584974434), (3105, 0.02432799326391735), (3284, 0.02432231644808485), (856, 0.024302721857858794), (3364, 0.024278450202255834), (3145, 0.024265390091761624), (3333, 0.024251434990468702), (2336, 0.02420449312145718), (2857, 0.024199863924401686), (463, 0.024164959255598542), (1532, 0.024162943552441803), (2299, 0.024148234228502524), (2013, 0.024132811291293466), (3591, 0.024124450519337537), (2547, 0.02412386761714231), (708, 0.024122910154027864), (3430, 0.024049704135444355), (109, 0.02404626875199422), (4528, 0.02402948029962191), (3477, 0.024028575032029896), (4030, 0.02398468906500038), (2117, 0.023960794207807265), (4095, 0.02390374454489031), (3368, 0.023897680955067654), (1434, 0.023896324531568938), (3158, 0.0238905080440042), (4585, 0.02388096407112017), (3778, 0.023860619670886506), (1081, 0.023847371863913294), (935, 0.023843190793131557), (1233, 0.023840685515910762), (3199, 0.023786676163411683), (529, 0.023785971282119626), (4211, 0.02377259534967273), (1236, 0.023757314223727833), (4591, 0.023754874949571597), (490, 0.023750713327220258), (1111, 0.02374209724150092), (988, 0.023722596795827045), (1458, 0.02371957704676417), (2487, 0.02368329532963522), (2818, 0.0236647381077633), (4207, 0.023663611874664342), (2072, 0.023660708091467184), (987, 0.02364775111407099), (4522, 0.023639523705868436), (778, 0.02358639816530014), (1454, 0.023578017688829105), (4232, 0.02356397720090243), (3434, 0.023560574627031223), (268, 0.023557448328431603), (346, 0.02353236299123452), (496, 0.023510471838211595), (1632, 0.02349286249724816), (1977, 0.023478185920031907), (3772, 0.023464319861965285), (1674, 0.023440322220107477), (2104, 0.02343817526986694), (1487, 0.023410692096476973), (472, 0.023410316054260315), (2278, 0.023386830992008063), (3566, 0.023384327130059734), (2720, 0.023354745947437083), (1971, 0.023353327982584257), (395, 0.02334816501696164), (4159, 0.023336555565531443), (2965, 0.023330719163429534), (274, 0.02332198261188018), (2738, 0.023306585381917298), (714, 0.023300464320322862), (2313, 0.023247739520756164), (1576, 0.023239299673375395), (699, 0.02323426362854148), (2108, 0.023231883334738856), (3533, 0.023220945736527443), (586, 0.023208115803952722), (239, 0.023207945092436996), (4701, 0.02318860256198128), (4379, 0.0231578164498652), (220, 0.02315424763345396), (2205, 0.023144525221833294), (2872, 0.02313533585549128), (673, 0.02313102585585411), (2133, 0.023123995841138535), (3819, 0.02310077661795301), (281, 0.02309476394081819), (1969, 0.023077422184697986), (1426, 0.02304189060381395), (3609, 0.023038722734626503), (4219, 0.02302539954293148), (1474, 0.023012282439853975), (3614, 0.02300859530289677), (4369, 0.02300748233517127), (2179, 0.022985658491169438), (333, 0.022983833052508364), (2536, 0.022976363200571573), (3901, 0.02296730699826047), (4167, 0.022934540001342332), (1309, 0.022928143043215582), (431, 0.022924718101087926), (3072, 0.022892657277931983), (2506, 0.02288888706661789), (1551, 0.022884083440913285), (4776, 0.022868984545876825), (3381, 0.022861462723552602), (4422, 0.022854138833214497), (4076, 0.022812687173285325), (1017, 0.022792399821673068), (2507, 0.022779361519071582), (1043, 0.022771392601592493), (2340, 0.02273270011879013), (4366, 0.022732079483523022), (1925, 0.022726128713314038), (2220, 0.022705488763260243), (2972, 0.022664861901446818), (2628, 0.02264439656009761), (4691, 0.02262488250565628), (447, 0.02261133626095479), (2917, 0.022578857823468818), (2457, 0.0225766963399528), (1669, 0.02257431639048601), (2815, 0.02257366600967961), (352, 0.022570869923011484), (3588, 0.022560117060357095), (2096, 0.02255645065234381), (2916, 0.022530682425124054), (2674, 0.022517621950946472), (588, 0.022504157432122043), (4056, 0.022471774623443484), (4107, 0.022462120195807032), (3479, 0.022456235198745088), (3404, 0.022444100791988462), (1285, 0.022420294712250745), (1325, 0.02240336518494911), (749, 0.022394314674477177), (980, 0.022373160612601126), (2684, 0.02236082418755439), (3791, 0.02233211874788968), (2909, 0.02229609080332125), (4154, 0.022251364724487917), (38, 0.022234294681235552), (3302, 0.022227304174158035), (4672, 0.022200528536993266), (1289, 0.022199575727036604), (764, 0.022192154847305384), (1794, 0.02217476176780215), (4289, 0.022146065059050344), (2532, 0.022128250150602748), (2542, 0.022120313720579977), (279, 0.022116050849751573), (2953, 0.0220985232931453), (2947, 0.022090495756752253), (758, 0.022087326138947448), (1021, 0.022069005478211084), (2611, 0.022052893041369443), (3590, 0.02204096627795054), (4679, 0.022010692269597773), (1082, 0.021989341130083558), (4749, 0.021961149474373394), (4713, 0.02193874427422169), (1391, 0.021922707027724878), (1502, 0.021846464441941094), (566, 0.02183948275958457), (4678, 0.02183803539456715), (4620, 0.021829251951620957), (2001, 0.021801223443774692), (426, 0.02179463911985576), (2486, 0.02179277498874853), (3439, 0.02176903708590522), (3298, 0.02176901335780215), (2174, 0.02175215307245413), (1787, 0.02172687290833668), (3106, 0.021723367951619693), (317, 0.021693650708996065), (3003, 0.02163898673813558), (3334, 0.02163620313472292), (2032, 0.02163274427585389), (4722, 0.021622684626785793), (493, 0.021620343886958236), (2403, 0.021615934410462778), (1390, 0.021599946377289812), (608, 0.021576307290333444), (4540, 0.021570489717530908), (3338, 0.021566562741910877), (3188, 0.021564869466284078), (1995, 0.02156074892952423), (1225, 0.021490202416995383), (58, 0.02148962969677841), (4656, 0.021483696145742078), (4034, 0.0214729652200847), (2214, 0.02145402573923963), (3154, 0.021446896323227226), (1740, 0.021442402126510753), (1934, 0.021430419290775847), (2320, 0.021413577097643455), (4789, 0.021413347228647697), (1666, 0.021410430925748757), (4064, 0.021402678492419534), (2238, 0.02140262995079026), (2467, 0.021402397238641933), (3055, 0.021368732519473008), (857, 0.021361959534933705), (785, 0.021361424579931114), (890, 0.021356452486975923), (4298, 0.021345114077097976), (1826, 0.02132552120963985), (1986, 0.02132527502052898), (3623, 0.021319840985639583), (3459, 0.02128974994366433), (4557, 0.02127578535115463), (1368, 0.02127539354622937), (2888, 0.021273584171728074), (3642, 0.021249167465574773), (3972, 0.021221694336345024), (4355, 0.021205834567075546), (1194, 0.021204905811545362), (1488, 0.021195096692272923), (2002, 0.021184971260843264), (3436, 0.021170758118694927), (345, 0.02115533841828151), (2197, 0.021146766484444385), (3275, 0.021137846447553624), (2692, 0.021134699009158587), (1479, 0.02112315479337881), (945, 0.021122597479269336), (868, 0.021120634666320606), (2810, 0.021098757846694585), (4753, 0.02109851369360069), (269, 0.021096868697230636), (1035, 0.021087310657424432), (1417, 0.021082419341245065), (4310, 0.02108220258992937), (1720, 0.02107192939795622), (866, 0.021067942207527467), (2802, 0.021045684684109913), (1468, 0.02104441170570826), (1048, 0.02103419732919604), (2794, 0.021032907479048454), (3919, 0.02103006165156102), (1559, 0.021015758177123155), (1533, 0.021004929526274065), (1033, 0.0209990377708872), (244, 0.02099085421310706), (756, 0.020989089057053538), (3650, 0.020987127484219152), (2629, 0.020951313706800142), (2843, 0.02094769518743285), (3018, 0.020943980375949845), (1024, 0.020930775049016043), (2759, 0.020918749470572345), (1727, 0.020903153397352568), (888, 0.020899218451869307), (4529, 0.020884974430492413), (1476, 0.020859259856898415), (210, 0.02079747957996616), (2820, 0.020797415775454263), (30, 0.020769615513603748), (433, 0.020753255768242263), (1565, 0.020750478788319104), (3667, 0.020749309006646354), (4041, 0.020737144645369243), (1304, 0.020728145812291782), (3000, 0.020703718607829852), (1085, 0.02065998306950313), (1358, 0.020659417244780633), (110, 0.020630776832260635), (2846, 0.020623072642189585), (398, 0.020616168583176997), (2949, 0.020615406633379275), (3527, 0.02059662265759725), (2473, 0.02059146979613826), (3770, 0.020588281835196134), (2808, 0.02058633375622616), (2128, 0.020578387899969734), (1860, 0.020539160373756957), (1406, 0.020533755304283096), (836, 0.020527968241649416), (405, 0.02052645436000066), (4117, 0.020525091912263108), (755, 0.02049479532584581), (1005, 0.020479796649077352), (4325, 0.02045910923222798), (3756, 0.020458481558281755), (4206, 0.02045399154461705), (444, 0.02044153338193641), (2742, 0.020433650069991594), (3612, 0.020427499554576834), (910, 0.02041438558789477), (900, 0.020381347874197236), (652, 0.020371373544522856), (2154, 0.020363390999216927), (1582, 0.020351131588501825), (1433, 0.020348753727168392), (2225, 0.02033622249454713), (2783, 0.020325948543378998), (3412, 0.020310702314321753), (1611, 0.020302860492396338), (1380, 0.020302684109573192), (367, 0.020301398360371727), (1953, 0.020299302279659037), (3693, 0.020278721118443976), (3803, 0.020226667154724258), (404, 0.02021264286562961), (2800, 0.020190873679384706), (638, 0.020169161812390382), (4565, 0.020165749653864983), (1388, 0.020165624922501183), (4222, 0.020155455702728902), (4333, 0.020143731608773946), (1575, 0.020138794843995764), (3816, 0.02012597276569603), (1133, 0.020120455392241002), (3505, 0.020120270380777912), (4329, 0.020119274696869416), (1850, 0.020106011990226564), (2242, 0.020092226228676527), (399, 0.020084893575230994), (3020, 0.020084329194943247), (4423, 0.02007307176767058), (3135, 0.020041947938676162), (1894, 0.020041586496454603), (3839, 0.020038313821040307), (2216, 0.02003555110358031), (3345, 0.02001038225834224), (149, 0.020004432661028942), (83, 0.020000231093552274), (2952, 0.019995965336899544), (1780, 0.0199879496158473), (4163, 0.019972285028862478), (1143, 0.019969364073299124), (3271, 0.01996855022503992), (2453, 0.019966405414433428), (919, 0.01996511702196551), (1151, 0.0199207588012501), (1448, 0.019893467032715578), (1456, 0.01987263533854222), (3322, 0.019836910144933453), (1550, 0.01983564665247342), (374, 0.019820232864682628), (1539, 0.019788088647491216), (363, 0.01976450143007602), (2501, 0.019761228695531045), (3747, 0.01975454495865861), (3592, 0.01975110228208489), (1916, 0.019748169730986215), (2892, 0.0197167082835824), (4230, 0.019670781155392326), (1737, 0.019660059594781204), (1263, 0.019649261601159977), (2370, 0.019646600367953678), (2553, 0.01962145126072862), (3923, 0.019608990413949118), (1108, 0.01959574109366731), (2686, 0.019589296666523218), (2961, 0.019568822989150053), (4349, 0.01953127595096242), (1303, 0.0195008446477819), (1640, 0.01947133897698175), (2250, 0.01946936218914093), (1184, 0.019458557477456367), (2438, 0.019448111554423254), (3896, 0.019443891529822142), (1130, 0.019443454910553798), (371, 0.019433010649550525), (1311, 0.019430916892698945), (3097, 0.01940637410837072), (1328, 0.01939837917740842), (3313, 0.019375732233666725), (1725, 0.019367027868290775), (61, 0.01936572118580926), (1254, 0.01934210443897926), (3142, 0.019332020800139987), (3581, 0.019324518911002026), (3316, 0.019315372683808625), (1076, 0.019304479672753616), (1007, 0.019293340745131234), (3883, 0.019259035418293855), (1038, 0.019258003406249252), (1324, 0.019253149181188887), (2357, 0.019242542143163503), (2496, 0.01923838390772368), (1073, 0.019223899029996737), (2787, 0.01921583124401152), (2039, 0.019203158753043542), (1765, 0.019201220261725264), (4555, 0.019200291774613354), (25, 0.019173656653341458), (2876, 0.019163566655425353), (1785, 0.01915961017086669), (4236, 0.019155512093696245), (1016, 0.01913405827205892), (4547, 0.0191162493130676), (2940, 0.019086926022551805), (1034, 0.01908016518034391), (2009, 0.01907207760976109), (894, 0.01905731092960602), (747, 0.019051908706352094), (3695, 0.019042247977289366), (1854, 0.019041100557234958), (653, 0.019034370330116037), (4299, 0.019027126485989594), (2412, 0.019015293768298185), (432, 0.01901034129648565), (3374, 0.019006837500794797), (571, 0.018988402943882068), (2544, 0.018977647508688897), (3799, 0.018952737752136416), (2448, 0.018943109375847096), (2036, 0.0189430327726169), (4196, 0.018928303578106185), (2483, 0.018928122076722884), (659, 0.018917050703766133), (204, 0.01891240675424032), (982, 0.01891158446325155), (575, 0.018902911919727393), (1445, 0.018896560391184765), (3276, 0.01889449950031088), (2304, 0.018889679488547754), (2046, 0.018881473751071395), (2011, 0.01886618459402026), (1217, 0.018858136502281), (2152, 0.018851922578587085), (2557, 0.01885090260974855), (4461, 0.01882025885903122), (855, 0.01878938397141586), (1663, 0.018786442052742467), (2404, 0.018777839269141245), (50, 0.01877666442162089), (596, 0.018763266716089515), (2754, 0.01876321276170239), (3793, 0.018730022442710582), (2280, 0.018713315830301502), (2527, 0.018694745788541054), (3940, 0.0186673343184161), (1142, 0.0186648521253837), (1307, 0.01865191537527837), (4662, 0.01864278731729996), (3168, 0.018640905153911886), (1882, 0.018636131971051274), (932, 0.018627429097146753), (3740, 0.018622840521318886), (844, 0.01861406514654805), (2985, 0.018611165222536107), (4758, 0.018604757948127684), (2157, 0.018601679558300187), (3815, 0.018592570152953708), (3450, 0.018587050593641012), (457, 0.018583523948636417), (777, 0.018578926235643868), (3260, 0.018577101971975367), (3123, 0.018569340389672024), (4615, 0.018550516918132885), (552, 0.018545020238905138), (1397, 0.018542133054827655), (852, 0.018539502928222356), (1470, 0.01853784832573815), (1001, 0.018529501218263897), (515, 0.018527269733145), (2991, 0.018501979557933236), (241, 0.018497442566899114), (4670, 0.018496775073150812), (2882, 0.018488937576212536), (2784, 0.01848423171250208), (1569, 0.018474130338421497), (3035, 0.018459874223865823), (2899, 0.018454063347123108), (3170, 0.018433565843064638), (1596, 0.01839919883639486), (3643, 0.01838653506063426), (1928, 0.018363828542973998), (3060, 0.018346912306018627), (4142, 0.018333984776632135), (446, 0.018311041043673672), (3610, 0.01830927580738068), (581, 0.01829825645492458), (468, 0.01829605621592077), (21, 0.018283857964733766), (3521, 0.01827263113685127), (1059, 0.018268893147760194), (1772, 0.018256676727711443), (3858, 0.018245084908707895), (690, 0.01823658408194696), (2863, 0.018234401395898506), (2277, 0.018233876618795695), (1731, 0.018225969038480668), (278, 0.018223424288479007), (99, 0.018220079335424206), (2915, 0.01819200041848744), (454, 0.018178042770206543), (3762, 0.018176735128281607), (918, 0.018175892111809894), (821, 0.01817141763572515), (1853, 0.018158230748909994), (4725, 0.018122956523112795), (2159, 0.018115955571094487), (1439, 0.018113140555572324), (525, 0.018111693698617135), (2959, 0.018108636575383145), (3314, 0.018091725287809782), (1457, 0.018076533737910717), (100, 0.01804243307639292), (544, 0.017991043621097415), (1, 0.017986577095569133), (715, 0.01798430834257731), (4077, 0.017969163918923475), (3393, 0.01795381607344246), (3033, 0.01795378030097307), (2079, 0.017941118493674864), (1158, 0.017928653184934317), (4199, 0.017925203267852192), (1381, 0.017920653618078777), (3709, 0.017909102556256464), (2342, 0.017899021652321295), (3833, 0.017897319999966892), (1834, 0.017892253162449603), (1686, 0.01788003680389762), (1154, 0.017878634256819924), (3492, 0.01787445170668312), (8, 0.01786388155158687), (500, 0.017849139644810802), (4704, 0.017807958412866448), (691, 0.017806713824867402), (3028, 0.017795648195598823), (49, 0.017790308843571696), (1473, 0.01778916716851413), (716, 0.01778742882799331), (959, 0.017738320471237256), (2019, 0.01773356020065441), (4799, 0.01772626537809021), (2743, 0.01770999051565384), (2023, 0.017704492006555536), (2388, 0.017695631847327756), (4632, 0.01768913531775771), (2307, 0.017687453546724012), (1469, 0.017666099907931325), (4496, 0.01764751378626042), (4795, 0.01764728031173291), (3493, 0.017641358893136564), (763, 0.017639993851301636), (2678, 0.017634132162096534), (840, 0.017630271463412974), (3587, 0.017626590606704684), (1761, 0.01762616941218798), (2202, 0.017624015588600446), (411, 0.01762179801294113), (3761, 0.01761772310671976), (3602, 0.01760946827479562), (3945, 0.017608115511330673), (1100, 0.01758925945828637), (893, 0.017585902186550057), (2050, 0.017574069657473376), (1103, 0.017562396794931462), (2441, 0.017558476820296674), (3948, 0.017550088023331314), (568, 0.0175180036670034), (1625, 0.01751501212631496), (1759, 0.01750863916204701), (3006, 0.017501549908243583), (3446, 0.017496256471330674), (587, 0.017494522903300162), (2659, 0.01748823198419906), (1049, 0.017480091340827963), (1096, 0.017444895019350645), (2971, 0.01744219574742329), (739, 0.017440655082382274), (3620, 0.017429210472740115), (1131, 0.017410177647015013), (1215, 0.017403759422384563), (4784, 0.017383616780018502), (4287, 0.01737948897481759), (4331, 0.01735758601571339), (658, 0.01734825317463042), (4730, 0.017336059608076007), (4062, 0.017328265951782995), (4120, 0.017325091656825078), (761, 0.017313700926379134), (2074, 0.017313282241133564), (1653, 0.017279176646899076), (3349, 0.017239325263162075), (2564, 0.017234585840407286), (1695, 0.017231807953903257), (3305, 0.01721799251971854), (4482, 0.01720352914446467), (4548, 0.017192636006134764), (3137, 0.01718036276795348), (3008, 0.017179598768550977), (1937, 0.017172211888681177), (1561, 0.017163061849290222), (1200, 0.01716169754567505), (2624, 0.017158352824680048), (4598, 0.017154995190545638), (1508, 0.017152773261177645), (606, 0.017139584987184868), (1104, 0.01713311048871944), (2494, 0.017127282151873213), (170, 0.017124052664268235), (787, 0.01712358495466463), (1209, 0.017122326865597257), (2170, 0.01711950519398147), (4409, 0.01711071655464458), (3809, 0.01710630401367951), (1301, 0.01709303809990645), (4190, 0.0170540537869024), (3012, 0.017047843153020634), (4302, 0.017040621750694443), (1919, 0.017033954271499226), (3067, 0.017019058769465124), (3307, 0.017005432017827674), (735, 0.016951648458838786), (4370, 0.0169515876613123), (1361, 0.016949103565905534), (1771, 0.01694542620013398), (2963, 0.016936140441742912), (2200, 0.016914151199241487), (994, 0.016906578971919425), (2321, 0.016892967770895415), (3927, 0.016889151394791475), (513, 0.016860160778259813), (3775, 0.016842769685708442), (2161, 0.016840065765511322), (4614, 0.016832603376664337), (1830, 0.016817800840923502), (4658, 0.01681691059721105), (2148, 0.01680889434405811), (3363, 0.01675959114886776), (4396, 0.01675592874181084), (4201, 0.016747891987296405), (963, 0.016731524346594872), (2854, 0.01671930179520087), (4607, 0.01671570546019288), (491, 0.01670184078950216), (1531, 0.01669859287654929), (3548, 0.016686360547674913), (1513, 0.01667946559534132), (973, 0.016661344319073075), (101, 0.01664845169560358), (3912, 0.01663564283812218), (1659, 0.0166298712437958), (3758, 0.0166258032866772), (1174, 0.01660808041056675), (961, 0.016594053351337623), (2955, 0.01657615966862879), (1466, 0.016574032283950674), (1281, 0.016571042273000415), (3315, 0.01657093357351647), (1484, 0.016559601783684912), (1106, 0.0165503655328925), (1041, 0.01654326201549498), (116, 0.01653334790276905), (4372, 0.01652060111797747), (2324, 0.016485122317121587), (4156, 0.01647815438868034), (2931, 0.016474233003449294), (4112, 0.016447022273027), (3010, 0.016445842631030903), (2429, 0.01643227366388926), (1692, 0.016431216447917094), (1138, 0.016417571380450913), (2435, 0.01641299721818202), (242, 0.016385038040008477), (3389, 0.0163809989323683), (1679, 0.01637645978776614), (2360, 0.016371355406748597), (721, 0.016329736391777393), (111, 0.01632550070985614), (3309, 0.016306581699238855), (1847, 0.016300332182362494), (4193, 0.01629845863466446), (2222, 0.01629307923347215), (35, 0.01627750950855077), (3433, 0.016275709276807215), (3112, 0.016274364591825945), (3665, 0.01624994031733221), (1506, 0.0162439303642506), (2690, 0.01624108382071416), (3340, 0.01624105705193645), (4121, 0.01623461411715257), (2444, 0.016208309076499162), (3838, 0.0161978290952578), (3453, 0.016184207733009045), (308, 0.016172067802809324), (3724, 0.01616978785501636), (1377, 0.016167896228133655), (1291, 0.016167366050752207), (4774, 0.016141538315625075), (4182, 0.016132706513287465), (4506, 0.016130067373435225), (2034, 0.016119317302727816), (312, 0.01609165420869762), (832, 0.016083723466529677), (2055, 0.016079360812296974), (4183, 0.016077354966422618), (557, 0.016070687478261146), (3653, 0.016057706881837507), (2662, 0.016042608247445682), (711, 0.0160053723442123), (353, 0.015988026849809402), (1907, 0.01598182147255398), (740, 0.015977003260518152), (546, 0.015975451496859465), (1521, 0.015975399520841572), (2191, 0.015970627632637954), (2291, 0.015968917794442934), (639, 0.01594492241928867), (1099, 0.015927338962898246), (1226, 0.015910048217126417), (3516, 0.015903891229495107), (2045, 0.0159028019617224), (1003, 0.015901858627076465), (2261, 0.015881661761018444), (4762, 0.015878602555073444), (245, 0.015863052478648422), (2105, 0.015845960520924695), (4544, 0.015840923411428356), (114, 0.015839761959024642), (2500, 0.015839584569135562), (3575, 0.015832523123053117), (3220, 0.015816774875789034), (4780, 0.015803580853396216), (4416, 0.015798245502768895), (2695, 0.015782575376019535), (4152, 0.015775502185700944), (1862, 0.015766172152054267), (3917, 0.0157378887537077), (2347, 0.015706931764860824), (226, 0.015689847007382424), (4323, 0.015671575512356626), (2334, 0.015665584915747738), (3681, 0.015649818062870743), (4627, 0.01562715700305335), (3745, 0.015624264492612873), (3370, 0.015601937900301647), (4097, 0.015600775241376732), (2481, 0.015596049201318503), (3417, 0.015574521532634935), (3426, 0.015573230085440154), (1791, 0.01557268138334752), (4250, 0.01556285238160262), (1418, 0.01554621706299927), (2597, 0.01553097205663044), (1115, 0.015520589172870625), (1824, 0.015504912889609514), (4507, 0.015492093620828415), (377, 0.015479079349867154), (1278, 0.015446120840095685), (4145, 0.015438264919970857), (2853, 0.015437786848486082), (4029, 0.015437270110999761), (1114, 0.015433509207611622), (4091, 0.015414508495993908), (3672, 0.015401182670150775), (2423, 0.015388354658631264), (1935, 0.015384871296893117), (14, 0.0153574556405906), (664, 0.015342781400423368), (2910, 0.015334350399926533), (2575, 0.015322567287820728), (4162, 0.015316471646029076), (1314, 0.01531309459049145), (3287, 0.015294912982946133), (2081, 0.015294240625988179), (2571, 0.015292850807310597), (2649, 0.015286580297582425), (3423, 0.015284499913075799), (4205, 0.015282648274014182), (627, 0.015275682858485837), (2832, 0.015269582097973546), (2071, 0.015264461828109024), (3422, 0.015250212416154471), (4417, 0.015241807722820667), (497, 0.015241680116831602), (1902, 0.015239311105610026), (2018, 0.01522933663359157), (2670, 0.01521291421691046), (597, 0.015209703893725661), (2968, 0.015207658791361552), (3399, 0.015207114453321064), (2325, 0.01520517689195389), (2123, 0.015200447086031542), (4680, 0.015184108259584106), (4488, 0.015171281781361207), (438, 0.01516314578897002), (349, 0.015162062153284781), (2065, 0.015161390749722095), (4664, 0.015146952345428982), (2217, 0.015130412810224607), (3965, 0.01512486865229852), (4514, 0.015116049522392087), (3147, 0.015092605175639257), (4375, 0.015088467323669667), (3567, 0.015084394252342592), (4198, 0.015079950849586136), (4684, 0.015077135320880826), (4128, 0.015073157537795617), (2510, 0.01506839514415024), (1517, 0.015068084586723943), (4449, 0.015067295378757666), (4751, 0.015065885859929923), (2576, 0.015059187783738694), (637, 0.015049110553702746), (1177, 0.015046140676420287), (2472, 0.015045241049554138), (2447, 0.01503949962974683), (3894, 0.015031467450053427), (4071, 0.015014988874249883), (2610, 0.015013469902553162), (1715, 0.015009775684249747), (822, 0.015008200399694199), (3932, 0.01500482164856436), (4586, 0.015001571220931927), (2812, 0.014993494010620768), (1341, 0.014989305575239678), (1087, 0.014979981932055762), (81, 0.014975872715632043), (4497, 0.01497375087528893), (3800, 0.014962588848870688), (2633, 0.014960923463177402), (3274, 0.014957799895401842), (2645, 0.014955341819878003), (3702, 0.014942474041067353), (3200, 0.014931571289360073), (1965, 0.014930895773275676), (2757, 0.014925933733748127), (4531, 0.01492429067878012), (883, 0.014916706632699025), (881, 0.014897999077845801), (3796, 0.014892163910436513), (2439, 0.014883278771438444), (2859, 0.01487908407948668), (3926, 0.01487210762162684), (4354, 0.01486013150651416), (46, 0.014859357418867567), (4033, 0.014854823909743707), (1010, 0.01485468420160734), (182, 0.014853851956076802), (3959, 0.014851416038577226), (4579, 0.014823910551578017), (4210, 0.014812833825410404), (1182, 0.014804948459521699), (1267, 0.014797773832920039), (952, 0.014792789034205629), (4188, 0.014792784676718997), (2057, 0.01478972467770144), (4060, 0.014785319495116364), (4667, 0.014779043413803837), (3686, 0.014773290177560901), (1939, 0.01476962813347091), (1985, 0.014769181941283774), (18, 0.014769072436364904), (3152, 0.014753333475658591), (1601, 0.014747498764523621), (4221, 0.014743281487670743), (612, 0.014739479478188187), (3447, 0.014730366640988153), (4530, 0.014726858851410968), (2895, 0.014720011811394167), (4189, 0.014719889351861002), (3144, 0.01471080573867629), (4179, 0.014702852903355875), (3391, 0.01469699381567718), (4763, 0.014694063195679), (2418, 0.014693282198003518), (815, 0.014685160795609466), (2984, 0.014677478505910103), (2693, 0.01467396133733408), (4513, 0.014668459149797867), (2446, 0.014667855943633788), (36, 0.014667335041972342), (3600, 0.01465463722868017), (3431, 0.014639238127452388), (853, 0.014624300446940325), (4048, 0.014623842164022334), (3319, 0.014619573896458045), (4630, 0.014612672820514469), (1946, 0.014609467954023495), (3732, 0.014608613637539358), (620, 0.014589851453841418), (3282, 0.014588677697255283), (1981, 0.014575300738367554), (2451, 0.014572610626361069), (1235, 0.014570032672800859), (1779, 0.014567644454576485), (1505, 0.014565530997855784), (3915, 0.01455825256241988), (3641, 0.014557785490302367), (3326, 0.014552432485716712), (591, 0.014534270265463401), (1629, 0.014531490849903565), (4241, 0.014530170419175833), (1572, 0.014523960144047252), (415, 0.014522020992926337), (2856, 0.014506049087501775), (4359, 0.014479043124379599), (2151, 0.014475664329024765), (1376, 0.014473144958064078), (776, 0.014467638420130364), (669, 0.014452738647610456), (1837, 0.014445760730219484), (4588, 0.014442486300507436), (4470, 0.014427090025140752), (3184, 0.014411719653759345), (3164, 0.014406371866168884), (2059, 0.014405918820699757), (1535, 0.014396456418577966), (1698, 0.014394686158466332), (757, 0.014390793769283917), (2735, 0.014390513079296677), (1444, 0.014382082940977916), (3727, 0.014375438905248424), (2171, 0.014364351959779989), (2234, 0.014355855606016897), (3226, 0.014342427008771861), (3743, 0.014328221535202986), (2776, 0.014324048924608875), (3056, 0.014322604744552915), (696, 0.014312055899995933), (2289, 0.014311126338096199), (207, 0.014305033539616433), (453, 0.01430419701332301), (3320, 0.014303983725643819), (2957, 0.014295556158135998), (3501, 0.014293009324882214), (885, 0.014287629274846711), (1703, 0.014286993655990123), (3258, 0.014267559784232112), (4367, 0.014267505795984656), (1839, 0.014265407007023825), (4208, 0.014245577619322871), (3408, 0.01424484949029575), (2416, 0.014230156201776843), (4173, 0.014221114501286195), (3764, 0.014204187143597446), (4161, 0.014203115520736177), (793, 0.014199176247792584), (816, 0.01419916339759432), (3243, 0.014198826993554346), (3903, 0.014196592310665222), (1646, 0.014192137253107825), (205, 0.014191403291941674), (567, 0.014187865201505185), (3437, 0.014181612988702116), (3849, 0.014169983706509029), (3101, 0.014164846652830354), (1949, 0.014152307591465336), (1429, 0.014147385247263337), (3269, 0.014146066755806645), (2372, 0.014134717845514424), (3469, 0.014131343992367922), (3300, 0.014130924110701184), (3264, 0.014128251866731006), (898, 0.014125992793789484), (4406, 0.014123337520144908), (2156, 0.014122262936061178), (3457, 0.014121893144278915), (3957, 0.014119536016422251), (356, 0.014117008255452018), (3030, 0.014112852264734263), (3395, 0.014110065292796587), (413, 0.014108646409653666), (456, 0.01410226095994846), (970, 0.014098577979602105), (2772, 0.014092691130831485), (882, 0.014091209580442266), (299, 0.014089225390968588), (1404, 0.0140880423659385), (3996, 0.014070456420776834), (828, 0.014069647315984552), (1241, 0.014066690962310825), (4094, 0.014045071523508543), (1603, 0.014037058851527059), (3387, 0.014035207104469231), (2, 0.014031371680790244), (4432, 0.014028282017409287), (388, 0.01402042425694081), (4476, 0.014019988387613912), (2109, 0.014013624891541725), (3537, 0.01401038662319789), (2245, 0.014007293745939736), (1150, 0.01400674916128031), (1641, 0.013995224243935376), (2422, 0.01398524805167179), (370, 0.013984634556949222), (4345, 0.013982814384684072), (958, 0.013978766225914707), (2587, 0.013976167545688279), (198, 0.013971805938025461), (4348, 0.013971486371089912), (1599, 0.013971347109871694), (52, 0.01396427478075737), (911, 0.013962741536458156), (351, 0.013947066017395909), (1228, 0.013946051568050186), (4218, 0.013942994822456587), (2269, 0.01394264579209404), (2579, 0.013937165067691383), (540, 0.01393042350176495), (4376, 0.013926501345866076), (460, 0.013914629423666903), (102, 0.013913575389558324), (252, 0.013910927733272745), (3725, 0.01390999474424957), (319, 0.013899099929809033), (1842, 0.01388647508269011), (2495, 0.013872151522743705), (925, 0.013860748005585906), (3971, 0.013858693283463161), (2298, 0.013855199554418125), (1192, 0.013852722631829698), (4139, 0.013851766891540662), (1714, 0.013849217360478203), (887, 0.013849008494751526), (3504, 0.013846914621868659), (1061, 0.013845007848460782), (303, 0.013834239802518116), (3651, 0.013819227587177373), (4158, 0.013818166943165375), (4732, 0.013815947207867083), (598, 0.013814611438080993), (1744, 0.013813245452926283), (1868, 0.013811427662167608), (326, 0.013809441522622961), (1684, 0.013803399614889652), (3279, 0.01379943607510459), (625, 0.013795338663623704), (3767, 0.013789738765183327), (2257, 0.01375416402807587), (3857, 0.013738330998666287), (4570, 0.013736827192006957), (3157, 0.01373629217496104), (2775, 0.013733201058817316), (3176, 0.013732061744743021), (1970, 0.013730247168116877), (619, 0.013729257810055615), (3092, 0.01372790126898156), (2450, 0.01372130244571779), (397, 0.013716977716162848), (4440, 0.013716440442084317), (2295, 0.013708394382104378), (682, 0.013697993681601572), (1499, 0.01369681785722068), (4126, 0.013687896731490594), (3419, 0.013684132059111016), (2502, 0.013675709653588688), (1806, 0.013669278658950169), (1168, 0.013657481337363374), (1460, 0.013638957636562173), (3684, 0.013632461779148099), (3771, 0.013631954345042744), (1909, 0.013631714914934524), (1080, 0.013626097152137896), (481, 0.013621455529446205), (1339, 0.013613234015229122), (2788, 0.013609602667100745), (4798, 0.013609362326526712), (3569, 0.013606234275786755), (3463, 0.013606105940572537), (3621, 0.013600498722441725), (2449, 0.01360003254196484), (2345, 0.013598242482795267), (5, 0.013597638491259993), (2433, 0.013576793082746442), (1644, 0.013569429012006973), (3217, 0.013557135061145607), (4677, 0.013556911712390209), (3329, 0.013554100909649343), (2728, 0.013548342692348576), (717, 0.013543834565793052), (2241, 0.013542095701048189), (1051, 0.013533874387341525), (2471, 0.01351711026548081), (904, 0.013515965715374228), (2632, 0.013512445456332237), (3847, 0.013510445704135347), (2767, 0.013503009585655798), (1683, 0.013501901631693198), (1526, 0.013495813032216806), (4195, 0.013491534830227303), (700, 0.013489904393911567), (2458, 0.013483055005044172), (2625, 0.013472812569101237), (2430, 0.013470590861721147), (4380, 0.013466961042220317), (4160, 0.013461368338054466), (2606, 0.0134543877687851), (1708, 0.013452433201805244), (3318, 0.013449013292162651), (3236, 0.013445237872479093), (3541, 0.013437847979005458), (4272, 0.013435893266294416), (2333, 0.01343424114786647), (1270, 0.013424925639505026), (3785, 0.013423706404412901), (1036, 0.01340866918810434), (3456, 0.01340775057249692), (2572, 0.013405378225866628), (2600, 0.013403525814868686), (4603, 0.013403394035231053), (1486, 0.013398665248172402), (2716, 0.01339746608295962), (2475, 0.013392283616592934), (811, 0.013390846926700497), (4233, 0.013376982626871377), (1156, 0.013371959313709528), (1090, 0.013368816126470295), (1337, 0.013368530108853095), (1305, 0.013366811373103889), (3730, 0.013362775598412618), (647, 0.01336187345005673), (1537, 0.013357999258211817), (3301, 0.013346397550927298), (4006, 0.013339493143351712), (1763, 0.01333473429007298), (3528, 0.013334016337308489), (2488, 0.013319556671655323), (1170, 0.013316992266896203), (72, 0.013306440667937494), (3994, 0.01329793249944741), (3061, 0.013297458233457064), (4412, 0.013289583859482697), (1222, 0.013285373914406514), (555, 0.013282911679538167), (4165, 0.013276176404093355), (1122, 0.013274871243818076), (2428, 0.013264314126028368), (1135, 0.013261873380860555), (1756, 0.01325955587477156), (4604, 0.013255791347976966), (1449, 0.013252435348953779), (1742, 0.013249211552611233), (3444, 0.013245974660921188), (2838, 0.013227966801288975), (1871, 0.013211456747999619), (1846, 0.013208800253861043), (4146, 0.013201953814902998), (3595, 0.013192675607267916), (3207, 0.013179588768500856), (3627, 0.013155923350055259), (743, 0.013154513601991344), (272, 0.01314887786726929), (0, 0.013126125630668239), (538, 0.013117872114377725), (4523, 0.013098848726718083), (1681, 0.0130934602084689), (3265, 0.013091286069224219), (4428, 0.013084033333562999), (3044, 0.013071297266370824), (3050, 0.013069840225192718), (1705, 0.013067792538587376), (964, 0.013066696425696581), (1607, 0.01306392000337666), (4636, 0.013051959000441048), (4584, 0.013035622130799143), (2932, 0.013033762260132276), (3605, 0.013032912763857714), (2088, 0.013025790944509997), (813, 0.013013775164777103), (1798, 0.013012390617449037), (2554, 0.013009486059411202), (1618, 0.013004186084286145), (2311, 0.01299626412031581), (902, 0.012983780306630251), (3890, 0.012978562329527163), (3828, 0.012971065633915355), (4715, 0.012963519808380505), (4010, 0.012959998933282976), (4278, 0.012954704744342087), (470, 0.012950435222188793), (1966, 0.012934735103292783), (354, 0.01293045528731656), (870, 0.012928816804016235), (774, 0.012925196985344063), (2337, 0.012924001611910658), (996, 0.01291778191484453), (4229, 0.012914558607167987), (3558, 0.012914450641701901), (1494, 0.012913510841310361), (1661, 0.012912829104086223), (1619, 0.012912822004458485), (819, 0.012911225584660888), (2766, 0.012908291115051491), (1542, 0.012906713002506107), (2355, 0.012905301390875524), (4098, 0.012902736620941222), (3854, 0.012898377387096368), (3156, 0.01289115607433704), (3658, 0.012888991530010259), (3675, 0.012885614473046656), (1203, 0.012883541422467601), (1442, 0.01287812305880161), (2374, 0.012868684980995727), (1753, 0.012864669134176266), (3011, 0.01285997493952478), (2935, 0.012853572955346297), (15, 0.012851640129016888), (3299, 0.012847674831288469), (329, 0.0128465941431072), (3365, 0.012846279997462245), (4537, 0.012845387355811786), (3027, 0.012845339847839954), (2869, 0.0128452418573134), (1495, 0.01283855190337806), (4209, 0.012825709314624756), (416, 0.01282521604298448), (3445, 0.01282120564670612), (3905, 0.012816998824973523), (218, 0.012816824710693415), (516, 0.012814669746090463), (733, 0.012808425544713615), (2945, 0.012807284060447616), (3228, 0.01280508762857068), (4498, 0.012800484431559143), (1105, 0.012800176333272413), (4718, 0.012799650032317056), (886, 0.012797347797724295), (2630, 0.012794077891342353), (922, 0.0127930746059448), (4181, 0.012792077590364354), (1125, 0.012791476791363004), (1997, 0.012790284747783171), (3860, 0.012779127079966167), (1260, 0.012777382612450545), (3640, 0.012776220760946921), (3706, 0.01277369040973292), (2732, 0.012772591380360814), (166, 0.012770046305653898), (4668, 0.012768436222810157), (3090, 0.012750360596604704), (1117, 0.012750342592157318), (4735, 0.012749580568168342), (1185, 0.012744661524986555), (3559, 0.012739485117008731), (4645, 0.012738041564312278), (3973, 0.012735080049780332), (3047, 0.012733031541845493), (445, 0.01273274162094655), (705, 0.012732482501566868), (4485, 0.012731579320606225), (1689, 0.01272914114464371), (4516, 0.012724484695706837), (2180, 0.012722383291435792), (2608, 0.0127151750328513), (2893, 0.012710922526773907), (2163, 0.012704901323480872), (2284, 0.01270228472760816), (1608, 0.012701446567527126), (3283, 0.012684043995725813), (4111, 0.012683142972265311), (4442, 0.012680385945942004), (3253, 0.012678455233603314), (3874, 0.012678406788748932), (1571, 0.012673431888728584), (2847, 0.012665710546342066), (2051, 0.012665029666277802), (1638, 0.012657187848020002), (4258, 0.012654221026639042), (2840, 0.012653266549928962), (3415, 0.01264755316754458), (3071, 0.012642688520828812), (1500, 0.012641586973112516), (4228, 0.012639409309920588), (1651, 0.012637055251905251), (2190, 0.012634076165852827), (115, 0.012633763915545021), (2873, 0.012632366279756117), (2343, 0.012632084386950767), (1369, 0.012622463908261309), (2130, 0.01261871126858577), (1348, 0.012614212113841308), (2574, 0.012613746586515921), (1829, 0.012610890947011337), (2189, 0.01260571298182422), (792, 0.012594224249225829), (2651, 0.012588641334032842), (703, 0.012580779627097851), (1566, 0.012580723954718423), (3076, 0.012577502174530786), (4308, 0.012575092999699344), (1045, 0.012575068190749356), (4618, 0.012566403492804338), (2124, 0.012563091489040225), (875, 0.012558240415330912), (2201, 0.012556716361734733), (285, 0.012555659268107908), (4427, 0.012554394272048972), (907, 0.012554381378853776), (118, 0.01254650160727001), (2769, 0.012540843045618498), (1134, 0.012538058599428359), (3052, 0.012537707174525084), (3482, 0.012534409747537391), (1485, 0.012523149387491838), (391, 0.012520045127341143), (3696, 0.012514984372995955), (1232, 0.012512881669505652), (2158, 0.012507958383378964), (3608, 0.012506138183513538), (3234, 0.012504669959594546), (814, 0.012504131968223945), (3001, 0.012486627032501233), (560, 0.012484241573129174), (4726, 0.012477189043654894), (3618, 0.012465517817964459), (2546, 0.01246324884261537), (261, 0.012463023119888436), (2012, 0.01245404298985275), (4734, 0.012453119407669485), (1904, 0.01245099716245318), (860, 0.012449833879524693), (4021, 0.012445750995936321), (3328, 0.012445375650495914), (63, 0.01243949418226312), (995, 0.012438073472734353), (1065, 0.012437131439475658), (3094, 0.012435922749610572), (247, 0.0124318910390948), (1374, 0.012429152529117311), (2718, 0.012427125211373494), (965, 0.012425886220484315), (2126, 0.012408502151330665), (3321, 0.012406047308824351), (1098, 0.012400981706518932), (59, 0.012396924492551323), (3171, 0.01238703327935372), (4554, 0.01238452787409383), (1450, 0.012384094359724348), (1204, 0.012375424662562752), (1758, 0.012374617945374547), (4103, 0.012373981899845843), (1588, 0.012369698726259249), (3107, 0.012356273243264307), (3867, 0.012355297142346495), (1887, 0.012354078672665563), (4049, 0.012348407911098074), (867, 0.012346002889612365), (957, 0.012340288285467757), (2698, 0.012335702856957337), (2586, 0.012322747112035771), (380, 0.012320970260923212), (2044, 0.01231828192403814), (4204, 0.01231548790268816), (4425, 0.012314768729188769), (4200, 0.012313540909851435), (2365, 0.012311354475167366), (3303, 0.012308661959545025), (1512, 0.01229476933974075), (676, 0.012290350534631279), (4047, 0.012289617792955178), (3690, 0.012288940078096017), (3223, 0.012284754390798635), (1430, 0.012283302576609196), (1600, 0.012282226053609173), (4087, 0.012275059286720456), (891, 0.01227006273953511), (2142, 0.012264862649307741), (443, 0.012263217699288629), (4352, 0.012262587907077982), (1492, 0.01226106877200451), (1828, 0.012257767134605562), (3095, 0.012254674435909817), (3619, 0.012253021348119682), (2631, 0.012252907260674495), (2706, 0.012244620180572954), (3937, 0.012225541171937684), (827, 0.01221515331576555), (4551, 0.012214594570591987), (1553, 0.012204862972314325), (1867, 0.01220350841902736), (3065, 0.01220059289591658), (4438, 0.012187173482394101), (3821, 0.012182829179080422), (4552, 0.012175753984617461), (4073, 0.012175605334650594), (3898, 0.012174552088191754), (1248, 0.012172671968966374), (2240, 0.012168991237665402), (2155, 0.012165125836289866), (2425, 0.01216120914073272), (1333, 0.012151341925277134), (788, 0.012147511831891118), (1660, 0.012144905457884323), (2962, 0.012141332573328206), (4637, 0.012135603914598824), (4026, 0.012122261590068444), (1299, 0.01212203330437923), (2825, 0.012121752922592384), (3757, 0.012116334813083154), (3148, 0.01210949511628671), (3454, 0.012095790398010228), (2175, 0.012090349746377797), (2033, 0.012088694940386786), (3462, 0.012064097904625395), (437, 0.012062454463824996), (1435, 0.012059065970752477), (3132, 0.012058650997540546), (2534, 0.012057938871027706), (3604, 0.01205642385645185), (3834, 0.012041475334379657), (732, 0.012037543445721215), (2178, 0.012034791325559152), (2590, 0.012031802956228015), (2185, 0.012020742662618903), (3861, 0.012006464050789256), (559, 0.012000631377249396), (514, 0.01199962941405706), (2140, 0.01199768376016195), (2224, 0.01199407515061166), (4643, 0.01199030658443938), (2331, 0.011984653093949143), (3371, 0.011981156328470396), (2131, 0.011980656431485139), (2762, 0.011975721422511312), (531, 0.011973269586280672), (482, 0.011970204275319224), (2276, 0.01197005056123331), (923, 0.011969838957206764), (2584, 0.01196563751285903), (3416, 0.011965174246201894), (2549, 0.011959919322286738), (1180, 0.011955835614245111), (4303, 0.011955407610308177), (3259, 0.011949860168962002), (342, 0.011947381155963516), (3840, 0.011943594084564798), (1112, 0.011926781072823906), (223, 0.011924053844071615), (2395, 0.01192309577070832), (1463, 0.011922307801876926), (325, 0.011921753362242481), (4781, 0.01192095283285684), (2359, 0.011917283299153921), (4567, 0.011916814093888062), (425, 0.011911856644577792), (2335, 0.01190909271522132), (1187, 0.01190832490656839), (430, 0.011907017270007739), (1980, 0.011904971327080485), (1313, 0.01190092718565593), (4792, 0.011898821173907819), (519, 0.01189782606298595), (3918, 0.0118870280114786), (4460, 0.01188599575941664), (3128, 0.011885020404935675), (2796, 0.011884524971072412), (1538, 0.011882804603644666), (2739, 0.011879295655692635), (1841, 0.01187633774914776), (1075, 0.011871696076216316), (4390, 0.01186752306510463), (2247, 0.01186726870977782), (1914, 0.011864878101045464), (4124, 0.011863293299631933), (1379, 0.011851144253997742), (3895, 0.01183085243425359), (163, 0.011824506894966433), (3232, 0.011821500574918016), (488, 0.011817946647728967), (122, 0.011803408076677424), (3632, 0.011784868729119167), (3953, 0.011777447528374743), (2314, 0.011770689762926148), (2980, 0.011761614945868434), (2580, 0.011760577158460872), (311, 0.01175053468508164), (4576, 0.011747318360978962), (1639, 0.011745584329088794), (1870, 0.011735835068062929), (601, 0.011718336970496467), (4088, 0.011705911597972796), (1899, 0.011700725385387441), (630, 0.01170036638518139), (2646, 0.011698996947785865), (3354, 0.01169367985157298), (3212, 0.01169177026406136), (1524, 0.011685972519632286), (2212, 0.011679898809942326), (4411, 0.011679393153429803), (199, 0.011679245683646654), (4493, 0.011677390922477484), (799, 0.011668075744197842), (974, 0.011667768655322269), (4695, 0.011653068277015817), (1793, 0.011652689269474268), (1269, 0.01164833681282991), (2085, 0.011648231529715808), (3466, 0.011640209284594765), (1858, 0.011634415572448084), (2236, 0.0116329448693945), (2106, 0.011623330180168239), (1342, 0.011619924467487528), (2647, 0.011602490803701298), (1855, 0.011598255458085682), (2431, 0.011589837286733561), (3584, 0.011589556665314997), (1626, 0.011550051097585692), (2440, 0.011548440325574859), (976, 0.011546671532175057), (4265, 0.011544643114600931), (655, 0.011541254689435246), (3169, 0.011526229627990929), (2317, 0.011523637089797627), (1636, 0.011520288834098457), (1425, 0.011518068520998664), (1722, 0.01151216581308696), (2183, 0.011504077332502301), (1140, 0.011498078583958366), (2699, 0.011490204856081078), (127, 0.011487147812968466), (3361, 0.011487036342991246), (3989, 0.011477739885336662), (3149, 0.011473527370567027), (3947, 0.011463813401700653), (1672, 0.0114436294912561), (1414, 0.011429985719648242), (3546, 0.011426384301063722), (4621, 0.011425438177114819), (775, 0.01142146385566535), (248, 0.011416964978196095), (1071, 0.011416014767541423), (29, 0.011414786018566431), (1831, 0.01141184879377886), (3795, 0.011404343495188676), (355, 0.011402947714490807), (3082, 0.01139916984823283), (3467, 0.011399114352264653), (3879, 0.011397805776827767), (3552, 0.01139331509846024), (1428, 0.01138807322487993), (1259, 0.011385714231847772), (19, 0.01138296254196948), (2905, 0.011380543217406728), (3136, 0.011374193788726023), (573, 0.011372871322260732), (3853, 0.011368029185236118), (1844, 0.011363173068244758), (3219, 0.01134230962894234), (2913, 0.01133781898526469), (1230, 0.01131227980326246), (386, 0.011309951105795966), (4350, 0.01130830296396709), (1399, 0.011301389588909815), (2097, 0.011296450776002503), (222, 0.011291463968921401), (4740, 0.011291065012102666), (3941, 0.011280681151210878), (2887, 0.011255136834182491), (140, 0.011235512986972736), (290, 0.01123421063498821), (3179, 0.01123172047028459), (807, 0.011231615816116057), (3703, 0.011225079660789531), (654, 0.01122468869307081), (1144, 0.01122382537601489), (2981, 0.011219980018093698), (648, 0.01121905718951369), (1838, 0.011215278898700724), (818, 0.011214853384687886), (609, 0.011211868314655597), (2198, 0.011207550925817312), (1628, 0.011201879581954993), (1083, 0.01119028778158539), (863, 0.01117790950456003), (3098, 0.011139961334096019), (2064, 0.011136709890283704), (3520, 0.011133415225122649), (2322, 0.011132939388060191), (547, 0.01113120806199732), (3794, 0.011129938997312138), (1956, 0.011118941292005524), (476, 0.011117118948977857), (145, 0.011108738886998383), (2750, 0.011106540497509532), (1652, 0.011097827483750343), (3443, 0.011097291078140205), (4495, 0.011096544291705193), (408, 0.011093026615805995), (2977, 0.011091959360180426), (1872, 0.011091766308071044), (1119, 0.011080156684311889), (1633, 0.011078693912035153), (2556, 0.0110731851818941), (1128, 0.01106978259849349), (240, 0.011063874831924506), (1856, 0.011058478910876619), (2221, 0.011056887602410827), (1747, 0.011035791425439655), (842, 0.011032766898054354), (3093, 0.011010649458937274), (834, 0.011005213920524766), (76, 0.011000743823909902), (1586, 0.010995218924834722), (4549, 0.010979796486322507), (4285, 0.010977557796217846), (4364, 0.010974502180927987), (3545, 0.01095716288299151), (915, 0.010948794017527762), (286, 0.010948279690566266), (33, 0.010943787442259354), (3880, 0.010941970272572802), (831, 0.010940102760494855), (2358, 0.010938119008826469), (2795, 0.01093526082312481), (28, 0.010911244094027082), (594, 0.010896081439751727), (277, 0.010890612123806823), (108, 0.010880407803462045), (3327, 0.010868055955582162), (1757, 0.010863437097691043), (3218, 0.010854591715160327), (2294, 0.010850791273056723), (3140, 0.010850498112976477), (4391, 0.010849110312288596), (3425, 0.010842604010967307), (4719, 0.010829832092364601), (4686, 0.010826591696625386), (4608, 0.01082282944124385), (335, 0.010822278894740793), (3962, 0.01082210055153323), (4575, 0.01082118840724994), (2192, 0.010815960138881704), (4215, 0.010773321692665185), (1948, 0.010771599503527818), (2400, 0.010768272652219614), (3343, 0.010762724702870034), (3131, 0.01076233795837366), (1617, 0.010762022265719763), (737, 0.010749993181371952), (4394, 0.010749164680012057), (478, 0.0107464660357838), (4791, 0.010733004021595159), (808, 0.010716262879746759), (1610, 0.010707859960030253), (3369, 0.010707828732109249), (424, 0.010697236466373003), (310, 0.010691528237835113), (1139, 0.010675448981881646), (4147, 0.010662729433935633), (643, 0.010657722844528084), (1319, 0.010650150818249618), (4226, 0.010639236539616174), (4797, 0.010638528257582774), (4184, 0.010634443325701702), (850, 0.010633464972649904), (2661, 0.010632248494278504), (389, 0.010618610269028429), (455, 0.010609679574772657), (3512, 0.01060487652364657), (2004, 0.010599732796655851), (4569, 0.010573180712968571), (4008, 0.01055931173387892), (2902, 0.01055814807681288), (1094, 0.010554991212276226), (307, 0.01055279124236282), (1026, 0.010547395321991155), (1294, 0.010541931091164535), (1713, 0.010527387442974098), (951, 0.010511262075797657), (41, 0.010509712601992672), (1461, 0.010509474538350931), (3091, 0.010493590285494486), (93, 0.010491936900180136), (2578, 0.010491706476317468), (2052, 0.010490554011876275), (3308, 0.010480259144603855), (2084, 0.010440438773435728), (3606, 0.010431451229641259), (2730, 0.010430911898162793), (841, 0.01042997898577269), (999, 0.010419769617227815), (1778, 0.010417842356806548), (1195, 0.010413070596555064), (3982, 0.010411242823283142), (40, 0.010398130147194687), (2725, 0.010395993921167192), (212, 0.010385008521534199), (2848, 0.010382312988387916), (2392, 0.010375067758045005), (1266, 0.010366323733864117), (221, 0.010356213080970629), (2184, 0.010355558307810386), (2626, 0.010354390024911574), (1702, 0.010351220350487165), (3942, 0.010344211964063349), (1465, 0.01034072341701222), (1712, 0.010339543021065179), (1027, 0.010339062042426857), (177, 0.010332573303848324), (1815, 0.01032788602490766), (748, 0.010318337525955453), (392, 0.01031179354947544), (1999, 0.010310204724217011), (134, 0.01029545674860953), (434, 0.010290867213169339), (275, 0.010283493872216175), (4105, 0.01026880785999421), (1491, 0.010249436610412818), (580, 0.010234943359038953), (376, 0.010229869194108142), (880, 0.010199581166433616), (334, 0.01018742808832216), (2338, 0.010182461338045632), (153, 0.01018024464338903), (4096, 0.010165135149753644), (1188, 0.010159801418687706), (1427, 0.010159119422775026), (123, 0.010124727797042907), (1482, 0.01012145033974738), (4386, 0.010121282576247722), (905, 0.010119222448097797), (3920, 0.010109637286282919), (1447, 0.010102675755705597), (2835, 0.010096874408305433), (2251, 0.010093680598532686), (2675, 0.010084546802399199), (340, 0.010084045302387476), (2548, 0.010046740908390021), (864, 0.010043687329780827), (1568, 0.01003201900755049), (1507, 0.01000269707272524), (4339, 0.010001065231693564), (3744, 0.0099782802358237), (64, 0.009976820443894299), (125, 0.009967508935905606), (1282, 0.009941391572226631), (27, 0.009938448932062409), (3553, 0.009938142492959883), (1682, 0.009937885654286438), (1912, 0.00993144335131353), (1529, 0.009915819088600281), (800, 0.0099155402275984), (2415, 0.009912267991356824), (1563, 0.009910610360808082), (805, 0.009898302107058624), (45, 0.009896998042067891), (4084, 0.009883490477374387), (1811, 0.00987236357344704), (542, 0.009872176705303732), (1141, 0.00986664602808874), (1650, 0.00985541162583132), (2513, 0.009844855238085688), (3617, 0.009843752715689809), (291, 0.009840562643550124), (4114, 0.009839087919544218), (4108, 0.009837109037695328), (955, 0.009825540034445069), (147, 0.009824035135839041), (139, 0.00980987226972974), (42, 0.009806165961097365), (3868, 0.009802920548542206), (1201, 0.009796258143483325), (3362, 0.00978347975788636), (1008, 0.009781363224367911), (4312, 0.009773993809207198), (3032, 0.009771011458296942), (4515, 0.009766786737789811), (621, 0.009761044462498064), (1097, 0.009758660089111984), (2327, 0.009748987748845587), (4297, 0.009747268236302004), (3464, 0.009746904546313304), (611, 0.009737953358440658), (3481, 0.009728840987936183), (1331, 0.009721140415871405), (1743, 0.009721055509842456), (1375, 0.00971859060034478), (4502, 0.009692983373878084), (259, 0.009687644761921774), (3427, 0.009679135857360112), (3351, 0.009668192371568268), (3939, 0.009638439654958699), (1750, 0.009617467981802758), (1411, 0.009616023909107452), (4153, 0.009559505516924915), (3855, 0.009544372473126991), (4353, 0.00954215699068944), (90, 0.009537733880805803), (1437, 0.009517450777354192), (1153, 0.009500502870025842), (4625, 0.0094956869656415), (1547, 0.00949330511344656), (2530, 0.00947384501356514), (2281, 0.00947013605339759), (929, 0.00944599637212594), (1631, 0.009443786050387098), (2889, 0.009424206182584872), (1574, 0.009415586672517386), (1748, 0.009398275814693673), (3946, 0.009390635470618684), (736, 0.00938266561134935), (695, 0.009381967696212674), (4402, 0.009379292817319553), (636, 0.009371088450419712), (1213, 0.009359428216962685), (487, 0.009349721357977216), (3042, 0.009348479110610996), (4217, 0.009345735332746111), (4176, 0.00930786759409142), (3829, 0.009303733401465397), (264, 0.009274096721027157), (3906, 0.009252282547845079), (4028, 0.009208592754010779), (2377, 0.009115800009057958), (1687, 0.009106763127824187), (3491, 0.009100048170955364), (3760, 0.0090935382409595), (2223, 0.00909193047343436), (2078, 0.009090234830911198), (2826, 0.009089017945498492), (2213, 0.009047125223946885), (4439, 0.009015498742780861), (1804, 0.009000277134553869), (324, 0.008994941891883684), (2747, 0.008980446385776174), (2204, 0.008974389857463029), (1518, 0.00896928103122794), (3733, 0.008965222608551211), (3160, 0.00896259364140241), (1843, 0.008961455248327118), (939, 0.008913884238410564), (3887, 0.008912516082726966), (4011, 0.00889883252498131), (2007, 0.008884343018605113), (760, 0.008882841940121641), (332, 0.008860450469392944), (1407, 0.008846008548896864), (2758, 0.008845375739625044), (1197, 0.008841613405288329), (4634, 0.0088203360869149), (3451, 0.008793652515545626), (1734, 0.008787410873390415), (369, 0.008781877930372838), (1478, 0.0087757981440903), (3701, 0.008768711148133317), (3722, 0.008754613830172338), (2704, 0.008706550167439861), (4040, 0.008690482450159784), (2721, 0.008688280260619729), (3930, 0.008670165852871862), (1064, 0.008640532695309743), (617, 0.008633673300268568), (4081, 0.008628731701292677), (1327, 0.008618413264374663), (2562, 0.008616048699732544), (3630, 0.008611461381716513), (3133, 0.008600293131417356), (2193, 0.008598831371732283), (2523, 0.008576122414398854), (3162, 0.008558918950411814), (3251, 0.008553871917252029), (1409, 0.008533500399910961), (2393, 0.008510402402688506), (4556, 0.008493138445148011), (719, 0.008478520703031397), (1421, 0.008463433937845025), (298, 0.008457782067667945), (3500, 0.008452279756325426), (865, 0.00843121843660529), (3884, 0.00841984557309513), (3956, 0.008409556288165884), (3007, 0.008403046050084767), (4027, 0.008398092520876204), (2973, 0.008392557565687585), (1983, 0.008384119146554805), (2948, 0.008383180437120104), (858, 0.008366766873425344), (1165, 0.008356010497358754), (3143, 0.008351328654081273), (2868, 0.008341851649856805), (452, 0.008339117691151756), (2168, 0.008328690265295922), (3441, 0.008312240513535393), (1029, 0.008295005571958457), (726, 0.008293644079917251), (189, 0.008245806182604969), (2763, 0.00824436876372209), (4261, 0.008242263238102239), (2637, 0.00823141746699102), (3526, 0.008214519833514476), (2722, 0.008209610586463908), (4377, 0.008202535423086387), (3900, 0.008197084933120682), (672, 0.008190739922370448), (1340, 0.008176254267916457), (1152, 0.008169833779438541), (2165, 0.008169121942670452), (2110, 0.008157446196704825), (3087, 0.008152792414126241), (3046, 0.008148853036037188), (1214, 0.008138797855456709), (2145, 0.008119306033364151), (3405, 0.008115468216338097), (3286, 0.00810072040552376), (4769, 0.008099721397784145), (2804, 0.008097626172167832), (4045, 0.008085717116066263), (409, 0.008060961175779877), (892, 0.008049766372878329), (1732, 0.008043175132282752), (667, 0.008004850592748518), (2505, 0.008000668700574047), (3378, 0.007973940173913981), (2792, 0.007968539161433532), (4356, 0.007939558792023998), (2167, 0.007938403143907303), (4268, 0.007935234316902918), (1169, 0.0079070396428523), (327, 0.007860214606363564), (4292, 0.007838843627263458), (2653, 0.007830909064101202), (3203, 0.007821173226807705), (4484, 0.007814007667167715), (3817, 0.007812143905944658), (3790, 0.007807737888506429), (414, 0.007798307484602401), (4150, 0.007797714831991576), (4499, 0.00779162663461023), (3348, 0.0077832416327758055), (2799, 0.0077818705652804515), (1915, 0.007760598721594581), (4708, 0.00775902253709187), (3639, 0.007750002936639437), (3406, 0.0077276535568608935), (2828, 0.007714869675306596), (4079, 0.00770142852430621), (1206, 0.007691760686884959), (4022, 0.0076763680851180596), (2330, 0.0076717347300658545), (1726, 0.00766987436265903), (2607, 0.007660850872799057), (3955, 0.007659154734386351), (1670, 0.007635568330095014), (3255, 0.0076176759429275945), (1962, 0.007599803137676203), (2933, 0.007560601036984405), (2593, 0.007559348794242162), (3045, 0.007546912160430704), (1585, 0.007523852098340312), (2086, 0.007520795693516473), (3716, 0.007500188071055911), (1992, 0.00748717021249043), (871, 0.007476120023268426), (906, 0.007466617237841723), (2880, 0.007461064892230423), (3936, 0.0074557154673481245), (287, 0.007440846834347084), (256, 0.007432991231874395), (2801, 0.0074208460124068855), (71, 0.0074198574133808055), (1929, 0.0074135107084556005), (2249, 0.0074119997968578825), (3987, 0.007401257525050396), (1288, 0.007382826798146342), (133, 0.007370262719314434), (3631, 0.007340261225570642), (1113, 0.007339548106172436), (1581, 0.007334630446635203), (1238, 0.007332746223092838), (1782, 0.007330453983348015), (1881, 0.007325795947333198), (384, 0.007313499913336114), (1336, 0.007310465085298695), (4395, 0.007308781071313259), (4539, 0.0072887823469740725), (4788, 0.007284054569462908), (3470, 0.007273513723296634), (2839, 0.007262466280571085), (4281, 0.007251644372246751), (1701, 0.007241468202334552), (420, 0.007231090416331216), (2413, 0.007222491541583141), (441, 0.007213808769484248), (1764, 0.007207531185881232), (2731, 0.007207406763347287), (3059, 0.007200616803787375), (1243, 0.0071872240941447865), (1833, 0.007184385643646822), (4267, 0.007177290917350717), (3568, 0.007175544182097593), (750, 0.00714357679782553), (3596, 0.007143447814420966), (2605, 0.007140549180124714), (3683, 0.007133415061902138), (337, 0.007131559342159562), (1595, 0.007107882466614213), (3582, 0.007091358251850207), (684, 0.00708745864191893), (1157, 0.007084889485558109), (4720, 0.00707074993351377), (674, 0.0070678572059368295), (3475, 0.007060789151177411), (1349, 0.007057005528130407), (3594, 0.0070427515804521775), (2774, 0.007040483657524244), (2525, 0.007025640529848886), (3420, 0.007025266361228836), (2737, 0.006972133273223507), (642, 0.006951181418213074), (4014, 0.00694959297885109), (1004, 0.006941039713157079), (3224, 0.006937124477091102), (4237, 0.006931596359715677), (2099, 0.006927338229757377), (1160, 0.006922287548977493), (171, 0.006909916823048039), (4592, 0.006902149148404596), (3373, 0.006899050350639381), (1859, 0.006894514655254494), (2408, 0.006875724815611671), (381, 0.006875090134908652), (3629, 0.00687129487781924), (1597, 0.00687013142548085), (162, 0.00686863290976714), (4451, 0.006858021306369788), (3508, 0.006854653911009215), (1940, 0.006850822043025355), (1062, 0.006841974394419003), (293, 0.006836180579183294), (3242, 0.0068313885529021475), (1023, 0.006825745164652855), (1221, 0.006815984319411078), (2383, 0.006815671330967064), (679, 0.006814897641895951), (977, 0.006814410732117979), (3864, 0.006805036634059262), (1415, 0.006801351376844914), (3054, 0.00677444600887549), (22, 0.006757219643967772), (1403, 0.006750286620253304), (3812, 0.006747188702875309), (4404, 0.0067459767586892224), (365, 0.0067459425493962746), (2671, 0.006737239378186255), (1172, 0.00672390499456597), (2974, 0.006709501795285097), (2764, 0.006708019208883527), (3698, 0.006671191172571325), (947, 0.006655546504751596), (124, 0.006646412836970492), (1357, 0.006639122424591138), (4276, 0.00663893851993234), (752, 0.006635874602856208), (313, 0.006628450465701376), (4450, 0.0066281457133009775), (2623, 0.006610248013616046), (485, 0.0066090860890898225), (4421, 0.006597329909925299), (4794, 0.006590106546334085), (3943, 0.006589198213915146), (4321, 0.006589121597186479), (1589, 0.00657354955613259), (1769, 0.006567768227948332), (599, 0.006562673783364556), (4693, 0.006543339680235305), (4038, 0.006531668521092466), (2262, 0.006531614317357912), (1746, 0.006526456343119191), (4500, 0.006507499930801543), (592, 0.006503911935033189), (1960, 0.0065037745427370935), (3626, 0.006493988950721885), (1148, 0.006466049536809317), (2616, 0.006461152237827155), (2387, 0.006428566371871026), (2399, 0.006425084644122487), (89, 0.00641551040464719), (4168, 0.006401218931079254), (2268, 0.00638650179748186), (2062, 0.006384760121206333), (4666, 0.006384446123364783), (518, 0.006379721704300662), (4143, 0.006368815699283294), (678, 0.0063659492998336936), (10, 0.006348647958558325), (4629, 0.006343237069235147), (56, 0.006330946098444193), (985, 0.006327921204249731), (467, 0.006327068071038357), (4144, 0.0063255326183501125), (3051, 0.006322798589349688), (3986, 0.006322016231597405), (3779, 0.006317223664817335), (3225, 0.006311341942602567), (839, 0.006305797244922142), (4559, 0.006302353820574625), (1718, 0.0063003936966286676), (4187, 0.006287647347658851), (2401, 0.006283874616224073), (4175, 0.006275393751669066), (1558, 0.0062738515087887034), (3560, 0.006260169903892429), (47, 0.006249306380299551), (4764, 0.006247989303298566), (219, 0.006245709772605286), (3266, 0.006242298410259729), (165, 0.006237153055997427), (4263, 0.006235766538075736), (85, 0.006230290881567188), (3832, 0.006227721634324302), (1933, 0.006221406722999311), (3988, 0.006203190902924969), (4415, 0.006174500330029219), (4202, 0.006167976969497983), (2723, 0.006166465657438574), (2122, 0.0061519934428565575), (2101, 0.0061514109770709115), (4266, 0.006150494071754633), (466, 0.006148267239670621), (4546, 0.006144148402819297), (3414, 0.006142380212588727), (4259, 0.006132835374872994), (2309, 0.006124782097654114), (3882, 0.006115522480689034), (2303, 0.006110843791784689), (2883, 0.006108830493369016), (2352, 0.00610207681917178), (1398, 0.006095415781256253), (3263, 0.006090723723233775), (1941, 0.006086470600373964), (1733, 0.006084165603968156), (44, 0.006084120195519052), (131, 0.006081305799874102), (3155, 0.006080829511083532), (1622, 0.006078301398899741), (1256, 0.006077435123699548), (1920, 0.006070998078680248), (3522, 0.006070769816283893), (362, 0.006060668597555247), (3993, 0.006059812914828848), (1777, 0.006051797145300362), (786, 0.006037552935042299), (4648, 0.006034419184705827), (2394, 0.006019453668368058), (53, 0.006019221300689334), (4004, 0.0060161003108659145), (2655, 0.006014546481464684), (339, 0.006013409725624847), (4283, 0.00601274727280325), (4383, 0.005997231767474108), (4061, 0.005989091363742604), (3844, 0.00598691390000259), (107, 0.005979089811990382), (1918, 0.005969761412503878), (2300, 0.005958671990054873), (158, 0.005954562369919693), (845, 0.005948983586751396), (193, 0.0059471930582965645), (2164, 0.0059469153367744405), (1012, 0.00594440465545249), (3830, 0.005942723753101309), (2650, 0.005940165676698283), (55, 0.005938032845641686), (4080, 0.005929810925416384), (4624, 0.005928736478722619), (2042, 0.005926021405795489), (2286, 0.005915714379352545), (633, 0.005915198449654099), (196, 0.005912451939268606), (838, 0.005906848036899653), (1954, 0.005906827741545942), (296, 0.005899569434724106), (4072, 0.005895277823936596), (3208, 0.005889734627652895), (4093, 0.005882146817725559), (26, 0.005880096028155005), (3538, 0.005878742320052669), (3385, 0.005878277100520769), (4590, 0.00586897582392617), (1680, 0.0058665937022794835), (183, 0.005861349540619392), (3335, 0.005857116985744721), (3543, 0.0058513548083602), (4783, 0.005830863169342527), (2588, 0.0058259018720325595), (393, 0.005821050355391751), (1321, 0.005819601949468488), (626, 0.005815401583911524), (3089, 0.005813674824172598), (2622, 0.0058083564599631125), (3523, 0.005807557288670847), (103, 0.0058000068054384945), (1086, 0.005791525567543939), (439, 0.005785051219199467), (48, 0.005783444533952935), (1604, 0.005779789475940338), (229, 0.005772553996369831), (1070, 0.005771368293763484), (2093, 0.005768948688652733), (657, 0.0057661304044885914), (12, 0.005763218257962984), (1284, 0.005761596376472303), (511, 0.005751336500490548), (940, 0.005743541827805399), (4186, 0.005741387468855034), (884, 0.005740588036101582), (3572, 0.005736713151100734), (3876, 0.005734791192950169), (2976, 0.005731403192545342), (3689, 0.005730725769576659), (3517, 0.005729013522530989), (4465, 0.005723006340246063), (1302, 0.005721979416438753), (167, 0.005711992943724558), (1990, 0.005711329994904356), (129, 0.005705482499602265), (266, 0.005705089680379464), (4389, 0.005699771092413217), (7, 0.005697287360554021), (1880, 0.005689555796698839), (3842, 0.0056863332047100605), (4623, 0.005683632702507653), (4133, 0.00568323651788652), (2063, 0.005681392244022637), (991, 0.00568130403881257), (201, 0.005676350488849827), (908, 0.005675202431065735), (74, 0.00566963975137223), (330, 0.00566963475910212), (3489, 0.0056665500373043135), (394, 0.0056659565021489845), (3856, 0.005658876044821195), (1395, 0.005656054102855989), (1514, 0.005654846693038966), (2143, 0.005651738501038606), (4492, 0.005644237533114224), (981, 0.0056431664584849295), (3752, 0.005642937755808609), (956, 0.005639612947279021), (1788, 0.00563888725723996), (4257, 0.005631663172607208), (1205, 0.00562763817029547), (4756, 0.005622806866947415), (1741, 0.005619863245381097), (1089, 0.005616248394888359), (495, 0.005615785493915384), (508, 0.00560830701521889), (2265, 0.0056067785563090255), (1790, 0.005592444576412603), (62, 0.005588639323126616), (685, 0.005587541505130105), (2705, 0.005575222493603611), (2490, 0.005566568611393703), (9, 0.005566251939111793), (169, 0.005564825524237298), (260, 0.005564051440746957), (227, 0.005561871029735672), (31, 0.005547018991208379), (1770, 0.0055427920433597025), (3494, 0.005542452488534949), (70, 0.005541898027731368), (2235, 0.00553902992171449), (3205, 0.005535479456912879), (2964, 0.005526714662869525), (243, 0.005524999859936897), (3718, 0.0055170998882864706), (2390, 0.005516911836098506), (17, 0.005513187322414315), (4647, 0.00551277162335477), (262, 0.005510376598492711), (3554, 0.005507481910483158), (2785, 0.005506632564237017), (933, 0.005500459538561675), (4, 0.005496218210776842), (2264, 0.0054907821846362885), (361, 0.005490537757781561), (151, 0.0054899846432633626), (263, 0.005487302424803017), (94, 0.005487192805128564), (3707, 0.005483976924097501), (2293, 0.0054832689465842775), (1279, 0.005478592381628239), (2827, 0.005478370844108617), (3331, 0.005477216704638952), (507, 0.005473074429574701), (4587, 0.005470863998656889), (668, 0.005461704791515519), (3691, 0.005460087280483454), (1836, 0.005459303322564312), (91, 0.0054591603702931115), (200, 0.005456833034027629), (3666, 0.005456017172640903), (604, 0.005455862073706551), (3058, 0.005454333712864777), (1729, 0.00545155126317488), (3167, 0.005451125008079769), (2409, 0.005443088253183383), (2492, 0.005441105903211007), (150, 0.005440012046827632), (3126, 0.005433795032800685), (2296, 0.005430854656481673), (1422, 0.005422110127025308), (2391, 0.005419816019628057), (2995, 0.005417299757689987), (537, 0.005413084248318305), (1280, 0.0054129589703904475), (4330, 0.005412717256666881), (4042, 0.00540748952011895), (2585, 0.005407337758752289), (4509, 0.005404667574494622), (16, 0.00540223948987245), (2911, 0.005400802157805154), (634, 0.005397909954297315), (208, 0.005395534908718954), (931, 0.005394376527855736), (3782, 0.005388778234176138), (2075, 0.005385727619935857), (138, 0.005382739150950157), (3382, 0.005382249950054412), (2712, 0.0053815956329485715), (168, 0.005380295752429386), (486, 0.005372638179861987), (790, 0.005367761779898717), (4787, 0.005366484384097514), (2864, 0.005365228954133766), (4282, 0.005362386146013646), (1711, 0.005359698382653739), (2683, 0.005357822679785732), (489, 0.0053562720453411835), (640, 0.005353624552427876), (2100, 0.0053521349525182385), (187, 0.005347081716993581), (75, 0.005342130297817883), (2030, 0.005335695391754586), (1694, 0.005333142730734339), (2567, 0.005331409386969756), (39, 0.0053156854100344), (98, 0.005308257944337381), (228, 0.005306849621895992), (121, 0.00530584599711695), (152, 0.0053029045634385855), (687, 0.0053027919477838335), (582, 0.005298580931057989), (2997, 0.005297479132666984), (2386, 0.0052970105550498095), (2288, 0.005295381583706804), (801, 0.005294573679545911), (68, 0.005293029710144875), (4264, 0.005289903023711314), (1093, 0.005278605108058184), (4018, 0.005277619607556981), (249, 0.005272433518542849), (1938, 0.005267279175930519), (185, 0.005261862379598327), (4275, 0.005261292248064458), (237, 0.005259622130210796), (2896, 0.005257223314900117), (2533, 0.005256682538839779), (1825, 0.005254464221600346), (3671, 0.0052469893195241), (833, 0.005245083740310663), (920, 0.0052423036907552276), (403, 0.005237005660284136), (562, 0.00523157483199274), (3848, 0.005224691034357957), (1893, 0.005221201786930927), (216, 0.00522110067989344), (2760, 0.005219188065975087), (4224, 0.005212545822180361), (1116, 0.00521148438671566), (720, 0.005207382082317257), (126, 0.005207127776483055), (745, 0.005206493250531236), (13, 0.00520338546361506), (4436, 0.0052021873302153234), (206, 0.005199236262651336), (1786, 0.005194010231728321), (2781, 0.00519303647461087), (238, 0.005183671239202751), (4053, 0.005183226523616986), (1452, 0.005180633491229573), (943, 0.005177259453170615), (4453, 0.005174949010930205), (2076, 0.0051744019941953635), (2274, 0.0051737926481776305), (2069, 0.0051731588905784935), (3204, 0.005158160801209386), (564, 0.0051578621574735915), (1926, 0.00515758076567589), (3715, 0.005154871616792779), (577, 0.005152258543173692), (1101, 0.005145087020620141), (3656, 0.005141616658821873), (2445, 0.00514028167207489), (3746, 0.005139524181721823), (1968, 0.0051362111724571275), (2831, 0.005135599841241062), (462, 0.005129854522126037), (451, 0.005123908699948026), (3556, 0.005122132706881922), (3109, 0.0051183648587796405), (232, 0.005117132719791543), (2688, 0.005116059941980182), (1908, 0.0051148892508986995), (1809, 0.005112346614966573), (937, 0.005103962090970761), (3573, 0.005101471724091158), (2147, 0.005099972905075305), (79, 0.005099888556848005), (360, 0.005095021718836432), (3958, 0.005089111365069013), (4475, 0.005089075808349437), (2568, 0.005085033814994784), (989, 0.00508125001721115), (1022, 0.005076221204438649), (4058, 0.005074948256577443), (4351, 0.005071639480302873), (174, 0.005068515218530461), (728, 0.005066271625352448), (2150, 0.00506264631122604), (1410, 0.005051674078662397), (1275, 0.005048029146333534), (1905, 0.005044721913757282), (2817, 0.005040518724278633), (595, 0.005036877395220339), (3081, 0.0050231961991767686), (1848, 0.005021425764509155), (483, 0.0050083517852451374), (503, 0.0050025652265042395), (854, 0.005001596811908049), (1616, 0.005001013965327244), (1079, 0.004996744704643124), (3221, 0.00499509320146679), (1707, 0.00499258707750856), (2733, 0.004989507092203213), (517, 0.004989270118760936), (1290, 0.004987987434422034), (1480, 0.004987107310626422), (1044, 0.004985808045898435), (4170, 0.004981539904483644), (2137, 0.004976835038623131), (477, 0.004975438091038732), (3902, 0.004975433693644207), (3862, 0.004973862406276526), (1191, 0.004971547135219652), (914, 0.004968264486368317), (624, 0.004967450532672601), (4483, 0.004967183547744108), (3908, 0.004965191524171252), (1155, 0.00496440046291132), (1697, 0.00495935543792977), (2988, 0.004959000211027911), (1006, 0.004955057240869155), (1056, 0.004949564175866544), (400, 0.004948516209197522), (1332, 0.004938418302706383), (1310, 0.004933668166904452), (1453, 0.004933215627980395), (4037, 0.004927408338854288), (4473, 0.004917843176953471), (3138, 0.004908861665841497), (3330, 0.004899740080324181), (4316, 0.004893041426403291), (4650, 0.004890602730329171), (1265, 0.0048893075304250085), (3009, 0.004875320586683652), (4707, 0.004869496667883897), (2842, 0.004866080977893735), (1911, 0.004866060939782692), (3549, 0.00486194282633615), (2912, 0.004851180426816674), (2636, 0.0048492063806551584), (859, 0.0048421370963439864), (666, 0.00484174502556544), (4360, 0.004839111506095437), (3907, 0.004836785108701013), (2385, 0.004834634155222215), (3252, 0.0048334048338512375), (3717, 0.004829581355344716), (4420, 0.004828407330731467), (3652, 0.004824996485904515), (2120, 0.004819924434409447), (4220, 0.004819153767005769), (378, 0.00481522061630692), (618, 0.004811182870960846), (3085, 0.004810625837517006), (1095, 0.004810557663291443), (3586, 0.004809206338274196), (3985, 0.004803424616557537), (4052, 0.004797997205761023), (2850, 0.004796788639739571), (2702, 0.004792968545758135), (1351, 0.004781263688924731), (556, 0.0047771297142099765), (379, 0.004772948399287045), (1822, 0.004769529489855561), (938, 0.0047610453891443), (2417, 0.00475563137294426), (2681, 0.004752432463182928), (4767, 0.004744969624540597), (475, 0.0047413345214255545), (4723, 0.004736243007934351), (2405, 0.004735313710552002), (2845, 0.004734395497592612), (4347, 0.004731758296458627), (253, 0.004727456824409754), (2998, 0.004725540538017399), (3998, 0.004715057121768706), (2641, 0.004712813770478725), (2306, 0.00471216198916208), (4069, 0.004705522502695612), (2602, 0.004704581976786302), (2348, 0.004699967941284317), (2860, 0.00469263635876312), (3980, 0.004687345227536519), (543, 0.004683444569783948), (1721, 0.004683335787155714), (1936, 0.004682536293947911), (3120, 0.004680721287644905), (1820, 0.004655466826811333), (3474, 0.0046459425850757866), (4344, 0.004644671266055131), (4437, 0.004643381204694799), (2332, 0.004633390206396446), (51, 0.004633289525380031), (233, 0.004628901904417653), (2865, 0.004624063638485883), (4343, 0.0046199184579491966), (292, 0.004615685812125733), (2685, 0.004612059207321851), (1802, 0.004609286848808855), (1250, 0.0046000201963136735), (2643, 0.004597039851723953), (364, 0.004596183651313769), (4727, 0.004594029554587545), (84, 0.004581118093405378), (2381, 0.0045764193668298946), (1735, 0.0045651941554406715), (2924, 0.004560411719972612), (3108, 0.004560218718428921), (3104, 0.004557420969151922), (3246, 0.004544395508707468), (2891, 0.004541651976588347), (1255, 0.004540505946598271), (576, 0.0045159468994261966), (4031, 0.004510762678397301), (3755, 0.004509868786465686), (4137, 0.004503231696266727), (4032, 0.004498939371126328), (3099, 0.004477425144323202), (4738, 0.00447391178928658), (3231, 0.004471795924966868), (2986, 0.004462442372712062), (1808, 0.004459165349706314), (1642, 0.004446959997562071), (4639, 0.004440741393639239), (230, 0.004431918755084579), (1077, 0.004429117572259264), (2654, 0.004420077871671402), (3014, 0.0044188619664346646), (3002, 0.004415732502285996), (4238, 0.004400158329940695), (3460, 0.00439620886639703), (4074, 0.00438800011205024), (97, 0.004387392888460903), (2160, 0.0043824129081079105), (3428, 0.004380563058865438), (4194, 0.004375122683054374), (3017, 0.0043630584058355635), (2209, 0.004361552397205991), (1877, 0.004358445655996387), (3524, 0.004354579697703826), (3889, 0.004338899671907251), (723, 0.0043237403195935335), (1598, 0.004295521588433978), (2806, 0.004289121296023833), (2402, 0.004273946184239635), (3657, 0.004270594547685215), (3804, 0.004233920517663042), (4796, 0.004225907469963831), (4542, 0.004220423070622818), (4089, 0.004219714023225743), (579, 0.00419272906397878), (4336, 0.004188158992381226), (2484, 0.004142261177805907), (4248, 0.004081554451724394), (4340, 0.004080554034039201), (3175, 0.004074515858847314), (2016, 0.004073691427109981), (502, 0.004051643979350731), (3124, 0.004024767406904728), (4003, 0.003975064798786665), (1921, 0.0039027274964662803), (3240, 0.0038281983880759946), (6, 0.0), (23, 0.0), (32, 0.0), (34, 0.0), (37, 0.0), (54, 0.0), (57, 0.0), (66, 0.0), (67, 0.0), (77, 0.0), (78, 0.0), (80, 0.0), (86, 0.0), (87, 0.0), (92, 0.0), (105, 0.0), (120, 0.0), (130, 0.0), (132, 0.0), (136, 0.0), (141, 0.0), (142, 0.0), (143, 0.0), (146, 0.0), (154, 0.0), (155, 0.0), (161, 0.0), (173, 0.0), (175, 0.0), (178, 0.0), (179, 0.0), (181, 0.0), (184, 0.0), (190, 0.0), (192, 0.0), (194, 0.0), (195, 0.0), (197, 0.0), (202, 0.0), (211, 0.0), (214, 0.0), (231, 0.0), (235, 0.0), (251, 0.0), (254, 0.0), (255, 0.0), (258, 0.0), (276, 0.0), (289, 0.0), (294, 0.0), (301, 0.0), (302, 0.0), (306, 0.0), (318, 0.0), (321, 0.0), (341, 0.0), (343, 0.0), (347, 0.0), (348, 0.0), (357, 0.0), (359, 0.0), (368, 0.0), (375, 0.0), (385, 0.0), (390, 0.0), (401, 0.0), (406, 0.0), (407, 0.0), (410, 0.0), (417, 0.0), (418, 0.0), (423, 0.0), (427, 0.0), (429, 0.0), (435, 0.0), (436, 0.0), (450, 0.0), (458, 0.0), (459, 0.0), (464, 0.0), (465, 0.0), (473, 0.0), (474, 0.0), (479, 0.0), (484, 0.0), (492, 0.0), (498, 0.0), (499, 0.0), (501, 0.0), (504, 0.0), (509, 0.0), (520, 0.0), (521, 0.0), (522, 0.0), (524, 0.0), (526, 0.0), (533, 0.0), (549, 0.0), (550, 0.0), (563, 0.0), (565, 0.0), (569, 0.0), (572, 0.0), (578, 0.0), (584, 0.0), (585, 0.0), (593, 0.0), (605, 0.0), (616, 0.0), (623, 0.0), (628, 0.0), (641, 0.0), (646, 0.0), (649, 0.0), (650, 0.0), (651, 0.0), (656, 0.0), (661, 0.0), (662, 0.0), (663, 0.0), (671, 0.0), (675, 0.0), (686, 0.0), (689, 0.0), (692, 0.0), (697, 0.0), (698, 0.0), (701, 0.0), (704, 0.0), (709, 0.0), (712, 0.0), (722, 0.0), (727, 0.0), (734, 0.0), (738, 0.0), (765, 0.0), (766, 0.0), (769, 0.0), (770, 0.0), (771, 0.0), (772, 0.0), (780, 0.0), (781, 0.0), (783, 0.0), (791, 0.0), (796, 0.0), (797, 0.0), (803, 0.0), (812, 0.0), (820, 0.0), (824, 0.0), (835, 0.0), (837, 0.0), (843, 0.0), (846, 0.0), (847, 0.0), (848, 0.0), (878, 0.0), (889, 0.0), (895, 0.0), (896, 0.0), (897, 0.0), (899, 0.0), (903, 0.0), (909, 0.0), (913, 0.0), (916, 0.0), (917, 0.0), (921, 0.0), (926, 0.0), (927, 0.0), (928, 0.0), (934, 0.0), (948, 0.0), (953, 0.0), (966, 0.0), (967, 0.0), (986, 0.0), (997, 0.0), (1011, 0.0), (1014, 0.0), (1015, 0.0), (1037, 0.0), (1039, 0.0), (1040, 0.0), (1042, 0.0), (1054, 0.0), (1055, 0.0), (1057, 0.0), (1060, 0.0), (1066, 0.0), (1068, 0.0), (1069, 0.0), (1074, 0.0), (1078, 0.0), (1091, 0.0), (1121, 0.0), (1126, 0.0), (1129, 0.0), (1147, 0.0), (1159, 0.0), (1161, 0.0), (1163, 0.0), (1166, 0.0), (1171, 0.0), (1173, 0.0), (1179, 0.0), (1186, 0.0), (1189, 0.0), (1198, 0.0), (1208, 0.0), (1211, 0.0), (1212, 0.0), (1224, 0.0), (1229, 0.0), (1237, 0.0), (1242, 0.0), (1244, 0.0), (1251, 0.0), (1252, 0.0), (1257, 0.0), (1261, 0.0), (1268, 0.0), (1276, 0.0), (1277, 0.0), (1283, 0.0), (1287, 0.0), (1293, 0.0), (1306, 0.0), (1312, 0.0), (1316, 0.0), (1318, 0.0), (1322, 0.0), (1323, 0.0), (1326, 0.0), (1330, 0.0), (1344, 0.0), (1345, 0.0), (1353, 0.0), (1354, 0.0), (1355, 0.0), (1356, 0.0), (1362, 0.0), (1367, 0.0), (1371, 0.0), (1378, 0.0), (1383, 0.0), (1385, 0.0), (1386, 0.0), (1387, 0.0), (1389, 0.0), (1392, 0.0), (1396, 0.0), (1402, 0.0), (1413, 0.0), (1420, 0.0), (1423, 0.0), (1424, 0.0), (1436, 0.0), (1441, 0.0), (1451, 0.0), (1477, 0.0), (1481, 0.0), (1489, 0.0), (1493, 0.0), (1496, 0.0), (1497, 0.0), (1498, 0.0), (1504, 0.0), (1509, 0.0), (1511, 0.0), (1519, 0.0), (1520, 0.0), (1522, 0.0), (1525, 0.0), (1530, 0.0), (1534, 0.0), (1536, 0.0), (1541, 0.0), (1544, 0.0), (1545, 0.0), (1548, 0.0), (1552, 0.0), (1554, 0.0), (1555, 0.0), (1557, 0.0), (1562, 0.0), (1570, 0.0), (1580, 0.0), (1584, 0.0), (1587, 0.0), (1593, 0.0), (1602, 0.0), (1606, 0.0), (1609, 0.0), (1613, 0.0), (1614, 0.0), (1620, 0.0), (1623, 0.0), (1630, 0.0), (1643, 0.0), (1648, 0.0), (1656, 0.0), (1658, 0.0), (1662, 0.0), (1673, 0.0), (1676, 0.0), (1677, 0.0), (1678, 0.0), (1685, 0.0), (1690, 0.0), (1691, 0.0), (1693, 0.0), (1700, 0.0), (1709, 0.0), (1710, 0.0), (1716, 0.0), (1723, 0.0), (1730, 0.0), (1736, 0.0), (1738, 0.0), (1754, 0.0), (1755, 0.0), (1762, 0.0), (1776, 0.0), (1797, 0.0), (1801, 0.0), (1807, 0.0), (1810, 0.0), (1813, 0.0), (1814, 0.0), (1818, 0.0), (1819, 0.0), (1821, 0.0), (1823, 0.0), (1857, 0.0), (1863, 0.0), (1864, 0.0), (1865, 0.0), (1869, 0.0), (1875, 0.0), (1876, 0.0), (1878, 0.0), (1879, 0.0), (1883, 0.0), (1885, 0.0), (1886, 0.0), (1888, 0.0), (1898, 0.0), (1901, 0.0), (1903, 0.0), (1906, 0.0), (1913, 0.0), (1922, 0.0), (1923, 0.0), (1931, 0.0), (1942, 0.0), (1943, 0.0), (1947, 0.0), (1950, 0.0), (1951, 0.0), (1958, 0.0), (1959, 0.0), (1972, 0.0), (1974, 0.0), (1976, 0.0), (1979, 0.0), (1984, 0.0), (1987, 0.0), (1989, 0.0), (1994, 0.0), (2005, 0.0), (2006, 0.0), (2010, 0.0), (2015, 0.0), (2021, 0.0), (2024, 0.0), (2025, 0.0), (2027, 0.0), (2028, 0.0), (2037, 0.0), (2041, 0.0), (2058, 0.0), (2067, 0.0), (2073, 0.0), (2082, 0.0), (2083, 0.0), (2087, 0.0), (2090, 0.0), (2095, 0.0), (2098, 0.0), (2112, 0.0), (2113, 0.0), (2114, 0.0), (2115, 0.0), (2116, 0.0), (2119, 0.0), (2121, 0.0), (2127, 0.0), (2132, 0.0), (2135, 0.0), (2139, 0.0), (2141, 0.0), (2144, 0.0), (2162, 0.0), (2177, 0.0), (2182, 0.0), (2186, 0.0), (2199, 0.0), (2208, 0.0), (2210, 0.0), (2211, 0.0), (2215, 0.0), (2219, 0.0), (2226, 0.0), (2227, 0.0), (2228, 0.0), (2230, 0.0), (2232, 0.0), (2243, 0.0), (2246, 0.0), (2248, 0.0), (2252, 0.0), (2254, 0.0), (2256, 0.0), (2258, 0.0), (2259, 0.0), (2266, 0.0), (2270, 0.0), (2271, 0.0), (2272, 0.0), (2273, 0.0), (2279, 0.0), (2287, 0.0), (2292, 0.0), (2297, 0.0), (2302, 0.0), (2305, 0.0), (2310, 0.0), (2312, 0.0), (2315, 0.0), (2316, 0.0), (2319, 0.0), (2326, 0.0), (2328, 0.0), (2339, 0.0), (2341, 0.0), (2344, 0.0), (2350, 0.0), (2351, 0.0), (2363, 0.0), (2369, 0.0), (2379, 0.0), (2382, 0.0), (2396, 0.0), (2397, 0.0), (2406, 0.0), (2410, 0.0), (2411, 0.0), (2419, 0.0), (2420, 0.0), (2432, 0.0), (2436, 0.0), (2437, 0.0), (2443, 0.0), (2452, 0.0), (2454, 0.0), (2456, 0.0), (2462, 0.0), (2464, 0.0), (2465, 0.0), (2477, 0.0), (2479, 0.0), (2482, 0.0), (2485, 0.0), (2498, 0.0), (2499, 0.0), (2503, 0.0), (2504, 0.0), (2509, 0.0), (2511, 0.0), (2512, 0.0), (2516, 0.0), (2517, 0.0), (2518, 0.0), (2520, 0.0), (2526, 0.0), (2528, 0.0), (2537, 0.0), (2538, 0.0), (2541, 0.0), (2550, 0.0), (2551, 0.0), (2552, 0.0), (2559, 0.0), (2563, 0.0), (2566, 0.0), (2581, 0.0), (2591, 0.0), (2595, 0.0), (2598, 0.0), (2599, 0.0), (2601, 0.0), (2612, 0.0), (2615, 0.0), (2617, 0.0), (2618, 0.0), (2619, 0.0), (2620, 0.0), (2634, 0.0), (2638, 0.0), (2648, 0.0), (2652, 0.0), (2656, 0.0), (2658, 0.0), (2660, 0.0), (2663, 0.0), (2664, 0.0), (2665, 0.0), (2669, 0.0), (2672, 0.0), (2673, 0.0), (2679, 0.0), (2680, 0.0), (2689, 0.0), (2694, 0.0), (2696, 0.0), (2697, 0.0), (2700, 0.0), (2709, 0.0), (2711, 0.0), (2714, 0.0), (2715, 0.0), (2724, 0.0), (2727, 0.0), (2729, 0.0), (2740, 0.0), (2744, 0.0), (2745, 0.0), (2746, 0.0), (2748, 0.0), (2749, 0.0), (2752, 0.0), (2753, 0.0), (2755, 0.0), (2761, 0.0), (2765, 0.0), (2768, 0.0), (2770, 0.0), (2798, 0.0), (2807, 0.0), (2811, 0.0), (2814, 0.0), (2816, 0.0), (2821, 0.0), (2823, 0.0), (2833, 0.0), (2834, 0.0), (2837, 0.0), (2841, 0.0), (2844, 0.0), (2849, 0.0), (2851, 0.0), (2852, 0.0), (2866, 0.0), (2877, 0.0), (2881, 0.0), (2890, 0.0), (2894, 0.0), (2898, 0.0), (2900, 0.0), (2901, 0.0), (2903, 0.0), (2904, 0.0), (2908, 0.0), (2919, 0.0), (2920, 0.0), (2922, 0.0), (2923, 0.0), (2926, 0.0), (2928, 0.0), (2929, 0.0), (2930, 0.0), (2934, 0.0), (2937, 0.0), (2938, 0.0), (2942, 0.0), (2943, 0.0), (2944, 0.0), (2951, 0.0), (2954, 0.0), (2956, 0.0), (2967, 0.0), (2969, 0.0), (2970, 0.0), (2975, 0.0), (2979, 0.0), (2987, 0.0), (2992, 0.0), (2993, 0.0), (2994, 0.0), (2999, 0.0), (3004, 0.0), (3005, 0.0), (3013, 0.0), (3015, 0.0), (3016, 0.0), (3019, 0.0), (3022, 0.0), (3023, 0.0), (3024, 0.0), (3025, 0.0), (3034, 0.0), (3036, 0.0), (3037, 0.0), (3038, 0.0), (3039, 0.0), (3043, 0.0), (3049, 0.0), (3053, 0.0), (3066, 0.0), (3069, 0.0), (3070, 0.0), (3079, 0.0), (3096, 0.0), (3100, 0.0), (3102, 0.0), (3103, 0.0), (3115, 0.0), (3118, 0.0), (3119, 0.0), (3121, 0.0), (3127, 0.0), (3129, 0.0), (3130, 0.0), (3141, 0.0), (3150, 0.0), (3163, 0.0), (3166, 0.0), (3174, 0.0), (3182, 0.0), (3185, 0.0), (3187, 0.0), (3189, 0.0), (3190, 0.0), (3191, 0.0), (3193, 0.0), (3194, 0.0), (3206, 0.0), (3210, 0.0), (3213, 0.0), (3214, 0.0), (3215, 0.0), (3216, 0.0), (3230, 0.0), (3233, 0.0), (3235, 0.0), (3241, 0.0), (3248, 0.0), (3249, 0.0), (3254, 0.0), (3256, 0.0), (3261, 0.0), (3268, 0.0), (3272, 0.0), (3277, 0.0), (3281, 0.0), (3292, 0.0), (3295, 0.0), (3296, 0.0), (3310, 0.0), (3312, 0.0), (3317, 0.0), (3324, 0.0), (3325, 0.0), (3341, 0.0), (3344, 0.0), (3346, 0.0), (3347, 0.0), (3353, 0.0), (3355, 0.0), (3360, 0.0), (3367, 0.0), (3377, 0.0), (3379, 0.0), (3383, 0.0), (3388, 0.0), (3392, 0.0), (3396, 0.0), (3398, 0.0), (3402, 0.0), (3403, 0.0), (3407, 0.0), (3432, 0.0), (3438, 0.0), (3442, 0.0), (3449, 0.0), (3458, 0.0), (3461, 0.0), (3468, 0.0), (3471, 0.0), (3476, 0.0), (3478, 0.0), (3484, 0.0), (3487, 0.0), (3496, 0.0), (3497, 0.0), (3498, 0.0), (3502, 0.0), (3511, 0.0), (3513, 0.0), (3514, 0.0), (3525, 0.0), (3531, 0.0), (3532, 0.0), (3534, 0.0), (3535, 0.0), (3539, 0.0), (3540, 0.0), (3544, 0.0), (3547, 0.0), (3551, 0.0), (3555, 0.0), (3557, 0.0), (3562, 0.0), (3563, 0.0), (3564, 0.0), (3565, 0.0), (3570, 0.0), (3571, 0.0), (3574, 0.0), (3577, 0.0), (3578, 0.0), (3580, 0.0), (3585, 0.0), (3589, 0.0), (3597, 0.0), (3598, 0.0), (3601, 0.0), (3624, 0.0), (3648, 0.0), (3654, 0.0), (3659, 0.0), (3660, 0.0), (3661, 0.0), (3663, 0.0), (3670, 0.0), (3673, 0.0), (3674, 0.0), (3677, 0.0), (3692, 0.0), (3697, 0.0), (3708, 0.0), (3713, 0.0), (3719, 0.0), (3720, 0.0), (3721, 0.0), (3729, 0.0), (3731, 0.0), (3735, 0.0), (3736, 0.0), (3738, 0.0), (3742, 0.0), (3751, 0.0), (3754, 0.0), (3769, 0.0), (3773, 0.0), (3776, 0.0), (3777, 0.0), (3781, 0.0), (3783, 0.0), (3787, 0.0), (3792, 0.0), (3797, 0.0), (3798, 0.0), (3801, 0.0), (3802, 0.0), (3808, 0.0), (3811, 0.0), (3814, 0.0), (3818, 0.0), (3822, 0.0), (3823, 0.0), (3824, 0.0), (3825, 0.0), (3835, 0.0), (3841, 0.0), (3845, 0.0), (3852, 0.0), (3865, 0.0), (3871, 0.0), (3877, 0.0), (3885, 0.0), (3886, 0.0), (3888, 0.0), (3892, 0.0), (3893, 0.0), (3897, 0.0), (3904, 0.0), (3909, 0.0), (3914, 0.0), (3928, 0.0), (3929, 0.0), (3933, 0.0), (3938, 0.0), (3950, 0.0), (3951, 0.0), (3952, 0.0), (3961, 0.0), (3963, 0.0), (3964, 0.0), (3967, 0.0), (3975, 0.0), (3983, 0.0), (3991, 0.0), (3992, 0.0), (3995, 0.0), (3997, 0.0), (3999, 0.0), (4001, 0.0), (4002, 0.0), (4009, 0.0), (4025, 0.0), (4035, 0.0), (4036, 0.0), (4039, 0.0), (4043, 0.0), (4044, 0.0), (4050, 0.0), (4057, 0.0), (4066, 0.0), (4068, 0.0), (4070, 0.0), (4075, 0.0), (4085, 0.0), (4102, 0.0), (4104, 0.0), (4109, 0.0), (4115, 0.0), (4116, 0.0), (4118, 0.0), (4122, 0.0), (4123, 0.0), (4125, 0.0), (4131, 0.0), (4134, 0.0), (4138, 0.0), (4141, 0.0), (4148, 0.0), (4149, 0.0), (4151, 0.0), (4164, 0.0), (4166, 0.0), (4169, 0.0), (4180, 0.0), (4191, 0.0), (4212, 0.0), (4213, 0.0), (4214, 0.0), (4227, 0.0), (4231, 0.0), (4234, 0.0), (4239, 0.0), (4240, 0.0), (4242, 0.0), (4244, 0.0), (4245, 0.0), (4246, 0.0), (4253, 0.0), (4254, 0.0), (4255, 0.0), (4260, 0.0), (4262, 0.0), (4269, 0.0), (4273, 0.0), (4274, 0.0), (4284, 0.0), (4288, 0.0), (4290, 0.0), (4293, 0.0), (4294, 0.0), (4301, 0.0), (4304, 0.0), (4305, 0.0), (4306, 0.0), (4309, 0.0), (4314, 0.0), (4317, 0.0), (4319, 0.0), (4322, 0.0), (4328, 0.0), (4332, 0.0), (4334, 0.0), (4338, 0.0), (4341, 0.0), (4346, 0.0), (4357, 0.0), (4362, 0.0), (4363, 0.0), (4382, 0.0), (4384, 0.0), (4385, 0.0), (4387, 0.0), (4398, 0.0), (4400, 0.0), (4403, 0.0), (4405, 0.0), (4407, 0.0), (4410, 0.0), (4413, 0.0), (4419, 0.0), (4424, 0.0), (4426, 0.0), (4431, 0.0), (4433, 0.0), (4434, 0.0), (4435, 0.0), (4444, 0.0), (4446, 0.0), (4452, 0.0), (4458, 0.0), (4459, 0.0), (4462, 0.0), (4463, 0.0), (4464, 0.0), (4466, 0.0), (4467, 0.0), (4468, 0.0), (4469, 0.0), (4471, 0.0), (4474, 0.0), (4478, 0.0), (4480, 0.0), (4481, 0.0), (4486, 0.0), (4489, 0.0), (4490, 0.0), (4491, 0.0), (4494, 0.0), (4503, 0.0), (4504, 0.0), (4505, 0.0), (4508, 0.0), (4510, 0.0), (4512, 0.0), (4517, 0.0), (4520, 0.0), (4521, 0.0), (4534, 0.0), (4536, 0.0), (4541, 0.0), (4543, 0.0), (4550, 0.0), (4553, 0.0), (4558, 0.0), (4560, 0.0), (4561, 0.0), (4562, 0.0), (4564, 0.0), (4566, 0.0), (4568, 0.0), (4571, 0.0), (4574, 0.0), (4577, 0.0), (4580, 0.0), (4581, 0.0), (4582, 0.0), (4593, 0.0), (4595, 0.0), (4596, 0.0), (4597, 0.0), (4600, 0.0), (4605, 0.0), (4606, 0.0), (4609, 0.0), (4611, 0.0), (4612, 0.0), (4613, 0.0), (4616, 0.0), (4617, 0.0), (4619, 0.0), (4622, 0.0), (4628, 0.0), (4633, 0.0), (4641, 0.0), (4644, 0.0), (4651, 0.0), (4652, 0.0), (4653, 0.0), (4655, 0.0), (4657, 0.0), (4659, 0.0), (4660, 0.0), (4665, 0.0), (4669, 0.0), (4673, 0.0), (4674, 0.0), (4676, 0.0), (4682, 0.0), (4683, 0.0), (4685, 0.0), (4689, 0.0), (4690, 0.0), (4692, 0.0), (4694, 0.0), (4698, 0.0), (4699, 0.0), (4700, 0.0), (4702, 0.0), (4705, 0.0), (4709, 0.0), (4710, 0.0), (4711, 0.0), (4712, 0.0), (4714, 0.0), (4716, 0.0), (4721, 0.0), (4724, 0.0), (4728, 0.0), (4729, 0.0), (4731, 0.0), (4736, 0.0), (4737, 0.0), (4741, 0.0), (4742, 0.0), (4743, 0.0), (4744, 0.0), (4745, 0.0), (4746, 0.0), (4750, 0.0), (4754, 0.0), (4755, 0.0), (4757, 0.0), (4759, 0.0), (4761, 0.0), (4765, 0.0), (4766, 0.0), (4771, 0.0), (4773, 0.0), (4777, 0.0), (4779, 0.0), (4785, 0.0), (4790, 0.0), (4801, 0.0), (4802, 0.0)]\n"
     ]
    }
   ],
   "source": [
    "# sorting the movies based on their similarity score\n",
    "\n",
    "sorted_similar_movies = sorted(similarity_score, key = lambda x:x[1], reverse = True) \n",
    "print(sorted_similar_movies)"
   ]
  },
  {
   "cell_type": "code",
   "execution_count": 23,
   "id": "7971a479-840b-44ee-8c46-351fbe96190c",
   "metadata": {},
   "outputs": [
    {
     "name": "stdout",
     "output_type": "stream",
     "text": [
      "Movies suggested for you : \n",
      "\n",
      "1 . True Romance\n",
      "2 . Dear Frankie\n",
      "3 . Broken Arrow\n",
      "4 . Little Nicky\n",
      "5 . The Contender\n",
      "6 . Ulee's Gold\n",
      "7 . Evan Almighty\n",
      "8 . Closer\n",
      "9 . The Dark Knight Rises\n",
      "10 . He Got Game\n"
     ]
    }
   ],
   "source": [
    "# print the name of similar movies based on the index\n",
    "\n",
    "print('Movies suggested for you : \\n')\n",
    "\n",
    "i = 1\n",
    "\n",
    "for movie in sorted_similar_movies:\n",
    "  index = movie[0]\n",
    "  title_from_index = movies_data[movies_data.index==index]['title'].values[0]\n",
    "  if (i<=10):\n",
    "    print(i, '.',title_from_index)\n",
    "    i+=1"
   ]
  },
  {
   "cell_type": "code",
   "execution_count": 24,
   "id": "b0c1706e-b534-4bdd-8414-d04aa80d07b4",
   "metadata": {},
   "outputs": [
    {
     "name": "stdin",
     "output_type": "stream",
     "text": [
      " Enter your favourite movie name :  Comedy Romance\n"
     ]
    },
    {
     "name": "stdout",
     "output_type": "stream",
     "text": [
      "Movies suggested for you : \n",
      "\n",
      "1 . True Romance\n",
      "2 . Dear Frankie\n",
      "3 . Broken Arrow\n",
      "4 . Little Nicky\n",
      "5 . The Contender\n",
      "6 . Ulee's Gold\n",
      "7 . Evan Almighty\n",
      "8 . Closer\n",
      "9 . The Dark Knight Rises\n",
      "10 . He Got Game\n"
     ]
    }
   ],
   "source": [
    "movie_name = input(' Enter your favourite movie name : ')\n",
    "\n",
    "list_of_all_titles = movies_data['title'].tolist()\n",
    "\n",
    "find_close_match = difflib.get_close_matches(movie_name, list_of_all_titles)\n",
    "\n",
    "close_match = find_close_match[0]\n",
    "\n",
    "index_of_the_movie = movies_data[movies_data.title == close_match]['index'].values[0]\n",
    "\n",
    "similarity_score = list(enumerate(similarity[index_of_the_movie]))\n",
    "\n",
    "sorted_similar_movies = sorted(similarity_score, key = lambda x:x[1], reverse = True) \n",
    "\n",
    "print('Movies suggested for you : \\n')\n",
    "\n",
    "i = 1\n",
    "\n",
    "for movie in sorted_similar_movies:\n",
    "  index = movie[0]\n",
    "  title_from_index = movies_data[movies_data.index==index]['title'].values[0]\n",
    "  if (i<=10):\n",
    "    print(i, '.',title_from_index)\n",
    "    i+=1"
   ]
  },
  {
   "cell_type": "code",
   "execution_count": null,
   "id": "16890243-c4df-4eec-8dd9-b9f38ad71515",
   "metadata": {},
   "outputs": [],
   "source": []
  }
 ],
 "metadata": {
  "kernelspec": {
   "display_name": "Python 3 (ipykernel)",
   "language": "python",
   "name": "python3"
  },
  "language_info": {
   "codemirror_mode": {
    "name": "ipython",
    "version": 3
   },
   "file_extension": ".py",
   "mimetype": "text/x-python",
   "name": "python",
   "nbconvert_exporter": "python",
   "pygments_lexer": "ipython3",
   "version": "3.11.2"
  }
 },
 "nbformat": 4,
 "nbformat_minor": 5
}
